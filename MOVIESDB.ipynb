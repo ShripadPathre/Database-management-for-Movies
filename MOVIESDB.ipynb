{
  "nbformat": 4,
  "nbformat_minor": 0,
  "metadata": {
    "colab": {
      "name": "MOVIESDB.ipynb",
      "provenance": [],
      "collapsed_sections": [],
      "toc_visible": true
    },
    "kernelspec": {
      "name": "python3",
      "display_name": "Python 3"
    }
  },
  "cells": [
    {
      "cell_type": "markdown",
      "metadata": {
        "id": "AEPVETroezDP"
      },
      "source": [
        "# DBMS MINI PROJECT \n",
        "#TITLE : MOVIES DATABASE\n",
        "#PARTICIPANTS:\n",
        "**ROLLNO.  (NAME)**\n",
        "\n",
        "**5.   SUDARSHAN S PARANJAPE**\n",
        "\n",
        "**10.   JAY D PATEL**\n",
        "\n",
        "**14.   SHRIPAD R PATHRE**\n"
      ]
    },
    {
      "cell_type": "markdown",
      "metadata": {
        "id": "Lsg0r1qzdej9"
      },
      "source": [
        "# MOVIES DATABASE\n",
        "---\n",
        "# Following are the ENTITIES used \n",
        "---\n",
        "\n",
        "\n",
        "*  MOVIE(***mov_id***,  mov_name,  mov_year,  mov_time,  mov_lang,  rel_date,  mov_awards)\n",
        "\n",
        "*  ACTOR (***act_id***,  act_name,  act_gender,  act_age,  act_award) \n",
        "\n",
        "*  DIRECTOR(***dir_id***,  dir_name,  mov_id,  award_won)\n",
        "\n",
        "*  PROD_COMP(***prod_id***,  producer_name,  prod_budget,  prod_city)\n",
        "\n",
        "*  RATING(  ***rating_comp***,mov_rating)\n",
        "\n",
        "---"
      ]
    },
    {
      "cell_type": "markdown",
      "metadata": {
        "id": "jktEZCkzdpdv"
      },
      "source": [
        "# Following are the relationships:\n",
        "\n",
        "*   ACTS IN (m:n actors act in movies ; total participation on both sides)\n",
        "*   DIRECTED BY( m:n dir direct movies ; movie total director partial)\n",
        "*   PRODUCED BY (1:m production can produce many movies ; prod total movie   total)\n",
        "*   HAS (1:m 1 rating for many movies ; movie partial rating total)\n",
        "*   Also an(m:m director also an actor ; both partial )\n",
        "*"
      ]
    },
    {
      "cell_type": "markdown",
      "metadata": {
        "id": "8qYJ4MGgdpym"
      },
      "source": [
        ""
      ]
    },
    {
      "cell_type": "code",
      "metadata": {
        "id": "_0UWZKFniIWF"
      },
      "source": [
        "import sqlite3"
      ],
      "execution_count": null,
      "outputs": []
    },
    {
      "cell_type": "markdown",
      "metadata": {
        "id": "vOmQ2vGjLCTg"
      },
      "source": [
        "# New Section"
      ]
    },
    {
      "cell_type": "markdown",
      "metadata": {
        "id": "0MvJ3ndgLCpc"
      },
      "source": [
        "# New Section"
      ]
    },
    {
      "cell_type": "code",
      "metadata": {
        "id": "e_EUVVi3zS-6"
      },
      "source": [
        "import pandas as pd"
      ],
      "execution_count": null,
      "outputs": []
    },
    {
      "cell_type": "code",
      "metadata": {
        "id": "EyJDlvogiISo",
        "colab": {
          "base_uri": "https://localhost:8080/"
        },
        "outputId": "24f45d30-8582-4c41-9a30-1e4544268bbe"
      },
      "source": [
        "conn = sqlite3.connect('MOVIESDB.db')\n",
        "\n",
        "print(\"Opened database successfully\")"
      ],
      "execution_count": null,
      "outputs": [
        {
          "output_type": "stream",
          "text": [
            "Opened database successfully\n"
          ],
          "name": "stdout"
        }
      ]
    },
    {
      "cell_type": "code",
      "metadata": {
        "id": "MioRuwTwiIQA"
      },
      "source": [
        "cursor = conn.cursor()"
      ],
      "execution_count": null,
      "outputs": []
    },
    {
      "cell_type": "markdown",
      "metadata": {
        "id": "9iWqVMB6rWEv"
      },
      "source": [
        ""
      ]
    },
    {
      "cell_type": "markdown",
      "metadata": {
        "id": "BXxyqGULravD"
      },
      "source": [
        "CREATING TABLES \n"
      ]
    },
    {
      "cell_type": "code",
      "metadata": {
        "colab": {
          "base_uri": "https://localhost:8080/"
        },
        "id": "8Q-BeJEj2f4J",
        "outputId": "f5378785-3bc0-4a7e-87eb-4de8a2c5b20c"
      },
      "source": [
        "#1\n",
        "#docstring starts n ends with '''\n",
        "# making table for movie\n",
        "#MOVIE(mov_id,mov_name, mov_year, mov_time)\n",
        "query = '''\n",
        "CREATE TABLE IF NOT EXISTS MOVIE\n",
        "(mov_id      INT                NOT NULL  PRIMARY KEY,\n",
        " mov_name    TEXT               NOT NULL,\n",
        " mov_time    TEXT               NOT NULL,\n",
        " mov_year    INT                NOT NULL)\n",
        "'''\n",
        "\n",
        "cursor.execute(query)\n",
        "\n",
        "print(\"Table created successfully\")"
      ],
      "execution_count": null,
      "outputs": [
        {
          "output_type": "stream",
          "text": [
            "Table created successfully\n"
          ],
          "name": "stdout"
        }
      ]
    },
    {
      "cell_type": "code",
      "metadata": {
        "id": "HcuTWLReiIK5",
        "colab": {
          "base_uri": "https://localhost:8080/"
        },
        "outputId": "a560a0b7-5bf0-4e10-f4ae-dcbcf49f9a24"
      },
      "source": [
        "#2\n",
        "# making table for actor\n",
        "#ACTOR (act_id,  act_name,  act_gender,  act_age,  act_award) \n",
        "query = '''\n",
        "CREATE TABLE IF NOT EXISTS ACTOR\n",
        "(act_id      INT  PRIMARY KEY   NOT NULL,\n",
        " act_name    TEXT               NOT NULL,\n",
        " act_gender  TEXT               NOT NULL,\n",
        " act_age     INT                NOT NULL,\n",
        " act_award   INT                NOT NULL)\n",
        "'''\n",
        "\n",
        "cursor.execute(query)\n",
        "\n",
        "print(\"Table created successfully\")"
      ],
      "execution_count": null,
      "outputs": [
        {
          "output_type": "stream",
          "text": [
            "Table created successfully\n"
          ],
          "name": "stdout"
        }
      ]
    },
    {
      "cell_type": "code",
      "metadata": {
        "id": "RGQFovBxiIIe",
        "colab": {
          "base_uri": "https://localhost:8080/"
        },
        "outputId": "6faf5819-ecee-4411-d2c4-f1167c27cf71"
      },
      "source": [
        "#3\n",
        "#DIRECTOR(dir_id,dir_name,award_won)\n",
        "query = '''\n",
        "CREATE TABLE IF NOT EXISTS DIRECTOR\n",
        "(dir_id      INT  PRIMARY KEY   NOT NULL,\n",
        " dir_name    TEXT               NOT NULL,\n",
        " nationality TEXT               NOT NULL )\n",
        "'''\n",
        "\n",
        "cursor.execute(query)\n",
        "\n",
        "print(\"Table created successfully\")\n"
      ],
      "execution_count": null,
      "outputs": [
        {
          "output_type": "stream",
          "text": [
            "Table created successfully\n"
          ],
          "name": "stdout"
        }
      ]
    },
    {
      "cell_type": "code",
      "metadata": {
        "id": "xmi-BR2GiIF2",
        "colab": {
          "base_uri": "https://localhost:8080/"
        },
        "outputId": "0072a99d-b22d-4623-8b0e-216d2600aa08"
      },
      "source": [
        "#4\n",
        "# PROD_COMP(***prod_id***,  producer_name,  prod_budget,  prod_city)\n",
        "\n",
        "query = '''\n",
        " CREATE TABLE IF NOT EXISTS PROD_COMP(\n",
        " prod_id      INT  PRIMARY KEY   NOT NULL,\n",
        " prod_name    TEXT               NOT NULL,\n",
        " producer_name TEXT                NOT NULL)'''\n",
        "\n",
        "cursor.execute(query)\n",
        "\n",
        "print(\"Table created successfully\")\n"
      ],
      "execution_count": null,
      "outputs": [
        {
          "output_type": "stream",
          "text": [
            "Table created successfully\n"
          ],
          "name": "stdout"
        }
      ]
    },
    {
      "cell_type": "code",
      "metadata": {
        "id": "REMvso7fiH7r",
        "colab": {
          "base_uri": "https://localhost:8080/"
        },
        "outputId": "e7e7094e-056f-42c2-8f63-6b3f174ef897"
      },
      "source": [
        "#6\n",
        "# create table ACTS_IN(act_id,mov_id)\n",
        "query = '''\n",
        " CREATE TABLE IF NOT EXISTS ACTS_IN(\n",
        "   act_id          INT                NOT NULL,\n",
        "   mov_id          INT                NOT NULL,\n",
        "   PRIMARY KEY (mov_id,act_id)\n",
        "   FOREIGN KEY(mov_id) REFERENCES MOVIE,\n",
        "   FOREIGN KEY(act_id) REFERENCES ACTOR)\n",
        "   '''\n",
        "\n",
        "cursor.execute(query)"
      ],
      "execution_count": null,
      "outputs": [
        {
          "output_type": "execute_result",
          "data": {
            "text/plain": [
              "<sqlite3.Cursor at 0x7fbe4b75f2d0>"
            ]
          },
          "metadata": {
            "tags": []
          },
          "execution_count": 9
        }
      ]
    },
    {
      "cell_type": "code",
      "metadata": {
        "id": "RtpQzIPjvXGj",
        "colab": {
          "base_uri": "https://localhost:8080/"
        },
        "outputId": "dc7cc3ba-6439-4c69-e20e-392fabc0bc6a"
      },
      "source": [
        "#7\n",
        "#create table ALSO_AN(dir_id, act_id)\n",
        "query = '''\n",
        " CREATE TABLE IF NOT EXISTS ALSO_AN(\n",
        "   dir_id          INT                NOT NULL,\n",
        "   act_id          INT                NOT NULL,\n",
        "   PRIMARY KEY (act_id,dir_id)\n",
        "   FOREIGN KEY(act_id) REFERENCES MOVIE,\n",
        "   FOREIGN KEY(dir_id) REFERENCES ACTOR)\n",
        "   '''\n",
        "\n",
        "cursor.execute(query)"
      ],
      "execution_count": null,
      "outputs": [
        {
          "output_type": "execute_result",
          "data": {
            "text/plain": [
              "<sqlite3.Cursor at 0x7fbe4b75f2d0>"
            ]
          },
          "metadata": {
            "tags": []
          },
          "execution_count": 10
        }
      ]
    },
    {
      "cell_type": "code",
      "metadata": {
        "id": "FcEKeV60iHtT",
        "colab": {
          "base_uri": "https://localhost:8080/"
        },
        "outputId": "8b49e214-b744-414e-e8ec-6c2f4d93368d"
      },
      "source": [
        "#8\n",
        "# create table Directed_By(dir_id, mov_id)\n",
        "query = '''\n",
        " CREATE TABLE IF NOT EXISTS DIRECTED_BY(\n",
        "   dir_id          INT                NOT NULL,\n",
        "   mov_id          INT                NOT NULL,\n",
        "   PRIMARY KEY (mov_id,dir_id)\n",
        "   FOREIGN KEY(mov_id) REFERENCES MOVIE,\n",
        "   FOREIGN KEY(dir_id) REFERENCES ACTOR)\n",
        "   '''\n",
        "\n",
        "cursor.execute(query)"
      ],
      "execution_count": null,
      "outputs": [
        {
          "output_type": "execute_result",
          "data": {
            "text/plain": [
              "<sqlite3.Cursor at 0x7fbe4b75f2d0>"
            ]
          },
          "metadata": {
            "tags": []
          },
          "execution_count": 11
        }
      ]
    },
    {
      "cell_type": "code",
      "metadata": {
        "id": "iUatC2yhiIDT",
        "colab": {
          "base_uri": "https://localhost:8080/"
        },
        "outputId": "9cd21878-4f97-4afd-eaf7-f3e6730689fa"
      },
      "source": [
        " #5\n",
        " #RATING(mov_rating, mov_id(foreign key))\n",
        "\n",
        " query = '''\n",
        " CREATE TABLE IF NOT EXISTS RATING(\n",
        "   mov_id                      INT PRIMARY KEY   NOT NULL,\n",
        "   mov_rating                  INT                NOT NULL,\n",
        "   number_of_rating            INT                NOT NULL,\n",
        "   FOREIGN KEY(mov_id) REFERENCES MOVIE )\n",
        "   '''\n",
        "cursor.execute(query)\n",
        "\n",
        "print(\"Table created successfully\")\n"
      ],
      "execution_count": null,
      "outputs": [
        {
          "output_type": "stream",
          "text": [
            "Table created successfully\n"
          ],
          "name": "stdout"
        }
      ]
    },
    {
      "cell_type": "code",
      "metadata": {
        "id": "dvWo87plMIP3",
        "colab": {
          "base_uri": "https://localhost:8080/",
          "height": 207
        },
        "outputId": "6255625b-09d0-4e72-d6b4-5a01c0c79ed5"
      },
      "source": [
        "#9\n",
        "#create tab HAS\n",
        "query = '''\n",
        " CREATE TABLE IF NOT EXISTS HAS(\n",
        "   mov_id            INT                NOT NULL,\n",
        "   mov_rating        INT                NOT NULL\n",
        "   number_of_rating  \n",
        "   '''\n",
        "\n",
        "cursor.execute(query)"
      ],
      "execution_count": null,
      "outputs": [
        {
          "output_type": "error",
          "ename": "OperationalError",
          "evalue": "ignored",
          "traceback": [
            "\u001b[0;31m---------------------------------------------------------------------------\u001b[0m",
            "\u001b[0;31mOperationalError\u001b[0m                          Traceback (most recent call last)",
            "\u001b[0;32m<ipython-input-13-a151b5b1d4d6>\u001b[0m in \u001b[0;36m<module>\u001b[0;34m()\u001b[0m\n\u001b[1;32m      8\u001b[0m    '''\n\u001b[1;32m      9\u001b[0m \u001b[0;34m\u001b[0m\u001b[0m\n\u001b[0;32m---> 10\u001b[0;31m \u001b[0mcursor\u001b[0m\u001b[0;34m.\u001b[0m\u001b[0mexecute\u001b[0m\u001b[0;34m(\u001b[0m\u001b[0mquery\u001b[0m\u001b[0;34m)\u001b[0m\u001b[0;34m\u001b[0m\u001b[0;34m\u001b[0m\u001b[0m\n\u001b[0m",
            "\u001b[0;31mOperationalError\u001b[0m: near \"number_of_rating\": syntax error"
          ]
        }
      ]
    },
    {
      "cell_type": "markdown",
      "metadata": {
        "id": "WctZ33PMGC1F"
      },
      "source": [
        "POPULATING DATA"
      ]
    },
    {
      "cell_type": "code",
      "metadata": {
        "colab": {
          "base_uri": "https://localhost:8080/"
        },
        "id": "4EUwKoCgFcW4",
        "outputId": "1c1558e4-3579-4154-ae7b-408ee29253f5"
      },
      "source": [
        "insert_query2 = ''' \n",
        "INSERT INTO ACTOR (act_id,act_name, act_gender, act_age, act_award)\n",
        "VALUES ('111','Daniel Craig', 'Male','53', 'BAFTA best actor in leading role'),\n",
        "       ('112', 'Robert Downey Jr.' , 'Male' ,'55', 'Golden globe award for best actor'),\n",
        "       ('113', 'Scarlett Johannson', 'Female', '36', 'MTV Movie Award for Best Fight'),\n",
        "       ('114', 'Nicole Kidman', 'female', '53', 'Academy Award for Best Actress in a Leading Role'),\n",
        "       ('115', 'Mark Ruffalo' , 'Male', '53','MTV Movie Award for Best Fight'),\n",
        "       ('116', 'Emma watson', 'Female', '30', 'Teen choice award for best movie'),\n",
        "       ('117', 'Marlon Brando', 'Male', '80', 'Acedemy award for besyt actor in leading role'),\n",
        "       ('118', 'Gal Gadot', 'Female', '35','C Award'),\n",
        "       ('119', 'Mel Gibson', 'Male', '35','Critice Seeher Award'),\n",
        "       ('120', 'Bradley Cooper', 'Make', '35','Critics Cheher Award'),\n",
        "       ('121', 'Ben Affleck', 'Male', '35','Critics Choice Sr Award'),\n",
        "       ('122', 'Angelina Jolie', 'Female', '35','Choice Seeher Award')\n",
        "\n",
        "\n",
        "'''\n",
        "\n",
        "cursor.execute(insert_query2)"
      ],
      "execution_count": null,
      "outputs": [
        {
          "output_type": "execute_result",
          "data": {
            "text/plain": [
              "<sqlite3.Cursor at 0x7fbe4b75f2d0>"
            ]
          },
          "metadata": {
            "tags": []
          },
          "execution_count": 14
        }
      ]
    },
    {
      "cell_type": "code",
      "metadata": {
        "id": "7oLF1inqzolo",
        "colab": {
          "base_uri": "https://localhost:8080/"
        },
        "outputId": "606773c8-948f-4cea-b61d-368a30e0bfad"
      },
      "source": [
        "insert_query3 =''' \n",
        "INSERT INTO DIRECTOR (dir_id, dir_name, nationality)\n",
        "VALUES    ('D01', 'Zack Snyder', 'American'),\n",
        "\t\t\t\t\t('D02', 'Sam Mendes', 'American'),\n",
        "\t\t\t\t\t('D03', 'Jon Favreau', 'Australian'),\n",
        "\t\t\t\t\t('D04', 'Taika Waititi', 'American'),\n",
        "\t\t\t\t\t('D05', 'James Wan', 'American'),\n",
        "\t\t\t\t\t('D06', 'Louis Leterrier', 'American'),\n",
        "\t\t\t\t\t('D07', 'Bill Condon', 'British'),\n",
        "\t\t\t\t\t('D08', 'Francis Ford Coppola', 'British'),\n",
        "          ('D09', 'Patty Jenkins', 'British'),\n",
        "          ('D10', 'Guy Ritchie', 'American'),\n",
        "          ('D11', 'Daivd Fincher', 'British'),\n",
        "          ('D12', 'Martin Scorsese', 'American'),\n",
        "          ('D13', 'James Cameron', 'Canadian'),\n",
        "          ('D14', 'Jon M Chu ', 'Canadian'),\n",
        "          ('D15', 'Lana Wachowski', 'British'),\n",
        "          ('D16', 'Chad Stahelski', 'British'),\n",
        "          ('D17', 'Joss Whedon', 'British'),\n",
        "          ('D18', 'Chris Columbus', 'British'),\n",
        "          ('D19', 'Brian De Palma', 'British'),\n",
        "          ('D20', 'Martin Campbell', 'American'),\n",
        "          ('D21', 'David Sandberg', 'Canadian'),\n",
        "          ('D22', 'George Lucas', 'British'),\n",
        "          ('D23', 'Josh Boone', 'Australian'),\n",
        "          ('D24', 'Christopher Nolan', 'British'),\n",
        "          ('D25', 'Mel Gibson', 'American'),\n",
        "          ('D26', 'Bradley Cooper','American'),\n",
        "          ('D27', 'Ben Affleck','American'),\n",
        "          ('D28', 'Angelina Jolie','American')\n",
        "          \n",
        "          '''\n",
        "\n",
        "cursor.execute(insert_query3)      "
      ],
      "execution_count": null,
      "outputs": [
        {
          "output_type": "execute_result",
          "data": {
            "text/plain": [
              "<sqlite3.Cursor at 0x7fbe4b75f2d0>"
            ]
          },
          "metadata": {
            "tags": []
          },
          "execution_count": 15
        }
      ]
    },
    {
      "cell_type": "code",
      "metadata": {
        "colab": {
          "base_uri": "https://localhost:8080/"
        },
        "id": "8uy3dh25iHqZ",
        "outputId": "5069f67f-f638-4262-e555-d683b2893454"
      },
      "source": [
        "insert_query = ''' \n",
        " INSERT INTO MOVIE (mov_id,mov_name, mov_year, mov_time)\n",
        " VALUES ('M01','SKYFALL',2010,'2hrs'),\n",
        "       ('M02', 'Iron Man', '2008' ,'2hrs 6min'),\n",
        "       ('M03', 'Jojo Rabbit', '2019','1hr 48min'),\n",
        "       ('M04', 'aquaman','2018','2hr 22min'),\n",
        "       ('M05', 'Now You See Me', '2013', '2hr 5min'),\n",
        "       ('M06', 'Beauty and the beast', '2017', '2hr 10min'),\n",
        "       ('M07', 'The Godfather', '1972', '2hr 58min'),\n",
        "       ('M08', 'Wonder woman', '2017', '2hr 29min'),\n",
        "       ('M09', 'Sherlock Holmes', '2010', '2hr 9min'),\n",
        "       ('M10', 'Zodiac', '2007', '2hr 42min'),\n",
        "       ('M11', 'Shutter Island', '2010', '2hr 19min'),\n",
        "       ('M12', 'Titanic', '1997', '3hr 30min'),\n",
        "       ('M13', 'Now You See Me 2', '2016', '2hr 10min'),\n",
        "       ('M14', 'Matrix', '1999', '2hr 30min'),\n",
        "       ('M15', 'John Wick', '2014', '1hr 42min'),\n",
        "       ('M16', 'Avengers', '2012', '2hr 24min'),\n",
        "       ('M17', 'Harry Potter and The Philosophers Stone', '2001', '2hr 39min'),\n",
        "       ('M18', 'Thor : Ragnarok', '2017', '2hr 10min'),\n",
        "       ('M19', 'Scarface', '1983', '2hr 50min'),\n",
        "       ('M20', 'Casino Royale', '2006', '2hr 25min'),\n",
        "       ('M21', 'Lights Out', '2016', '1hr 21min'),\n",
        "       ('M22', 'Star Wars Episode 1', '1999', '2hr 16min'),\n",
        "       ('M23', 'Interstellar', '2014', '2hr 49min'),\n",
        "       ('M24', 'Conjuring', '2013', '1hr 52min'),\n",
        "       ('M25', 'The Fault In Our Stars', '2014', '2hr 13min'),\n",
        "       ('M26', 'A Star Is Born', '2018', '2hr 35min'),\n",
        "       ('M27', 'Braveheart', '1995', '3hr 02min'),\n",
        "       ('M28', 'By The Sea', '2015', '2hr 13min'),\n",
        "       ('M29', 'Argo', '2012', '2hr 10min')'''\n",
        "\n",
        "\n",
        "\n",
        "cursor.execute(insert_query)"
      ],
      "execution_count": null,
      "outputs": [
        {
          "output_type": "execute_result",
          "data": {
            "text/plain": [
              "<sqlite3.Cursor at 0x7fbe4b75f2d0>"
            ]
          },
          "metadata": {
            "tags": []
          },
          "execution_count": 16
        }
      ]
    },
    {
      "cell_type": "code",
      "metadata": {
        "colab": {
          "base_uri": "https://localhost:8080/"
        },
        "id": "0I6AeNmJwILN",
        "outputId": "06906f9a-4ecb-4a47-824f-0bbf6ed751f5"
      },
      "source": [
        "i1 =''' \n",
        " INSERT INTO PROD_COMP (prod_id, prod_name, producer_name)\n",
        " VALUES ('P01','Columbia Pictures','Micheal Wilson'), \n",
        "       ('P02','Marvel Studios','Kevin Feige'),\n",
        "       ('P03','Piki Films','Taika Waititi'), ('P04','DC Films','Peter Safran'),\n",
        "       ('P05','Summit Entertainment','Bobby Cohen'),\n",
        "       ('P06','Walt Disney Pictures','David Hoberman'),\n",
        "       ('P07','Columbia Pictures','Micheal Wilson'),\n",
        "       ('P08','DC Films','Zack Shnyder'),\n",
        "       ('P09','Paramount Pictures','Albert Ruddy'),\n",
        "       ('P10','Warner Bros Pictures','Susan Downey'),\n",
        "       ('P11','DC Films','Peter Safran'),\n",
        "       ('P12','Warner Bros Pictures','Brad Fischer'),\n",
        "       ('P13','Paramount Pictures','Martin Scorsese'),\n",
        "       ('P14','Paramount Pictures','James Cameron'),\n",
        "       ('P15','Summit Entertainment','Bobby Cohen'),\n",
        "       ('P16','Warner Bros Pictures','Joel Silver'),\n",
        "       ('P17','Summit Entertainment','Eva Longoria'),\n",
        "       ('P18','Warner Bros Pictures','David Hayman'),\n",
        "       ('P19','Cado Company','Martin Regman'),\n",
        "       ('P20','New Line Cinema','James Wan'),\n",
        "       ('P21','Lucas Films','Rick McCallum'),\n",
        "       ('P22','Warner Bros Pictures','Christopher Nolan'),\n",
        "       ('P23','New Line Cinema','Rob Cowan'),\n",
        "       ('P24','Fox 2000 Pictures','Marty Bowen'),\n",
        "       ('P25','Eros International','Kishore Lulla')\n",
        "      \n",
        "       '''\n",
        "\n",
        "\n",
        "cursor.execute(i1)"
      ],
      "execution_count": null,
      "outputs": [
        {
          "output_type": "execute_result",
          "data": {
            "text/plain": [
              "<sqlite3.Cursor at 0x7fbe4b75f2d0>"
            ]
          },
          "metadata": {
            "tags": []
          },
          "execution_count": 17
        }
      ]
    },
    {
      "cell_type": "code",
      "metadata": {
        "colab": {
          "base_uri": "https://localhost:8080/"
        },
        "id": "8yHfh9Kl5Tgs",
        "outputId": "a12d19f9-e57e-4978-8984-da5a6756a8ec"
      },
      "source": [
        "insert = '''\n",
        "INSERT INTO RATING(mov_id,mov_rating,number_of_rating)\n",
        "VALUES ('M01', '7.9', '633921'),\n",
        "      ('M02', '7.9', '950717'),\n",
        "      ('M03', '7.7', '210485'),\n",
        "      ('M04', '6.9', '386223'),\n",
        "      ('M05', '7.3', '601032'),\n",
        "      ('M06', '7.1', '277742'),\n",
        "      ('M07', '9.2', '16411'),\n",
        "      ('M08', '7.4', '583071'),\n",
        "      ('M09', '7.6', '586914'),\n",
        "      ('M10', '7.7', '474136'),\n",
        "      ('M11', '8.2', '11471'),\n",
        "      ('M12', '7.8', '10573'),\n",
        "      ('M13', '6.5', '‎312673'),\n",
        "      ('M14', '8.7', '‎229762'),\n",
        "      ('M15', '7.4', '546652'),\n",
        "      ('M16', '8.1', '‎127536'),\n",
        "      ('M17', '7.6', '667414'),\n",
        "      ('M18', '7.9', '‎602382'),\n",
        "      ('M19', '8.3', '750706'),\n",
        "      ('M20', '8.3', '750706'),\n",
        "      ('M21', '6.3', '116221'),\n",
        "      ('M22', '6.5', '‎73700'),\n",
        "      ('M23', '8.6', '1538047'),\n",
        "      ('M24', '7.5', '446591'),\n",
        "      ('M25', '7.7', '347173'),\n",
        "      ('M26', '7.6', '340153'),\n",
        "      ('M27', '8.3', '9670'),\n",
        "      ('M28', '5.3', '18962'),\n",
        "      ('M29', '6.7', '577738')\n",
        "     \n",
        "     '''\n",
        "\n",
        "cursor.execute(insert)\n",
        "\n"
      ],
      "execution_count": null,
      "outputs": [
        {
          "output_type": "execute_result",
          "data": {
            "text/plain": [
              "<sqlite3.Cursor at 0x7fbe4b75f2d0>"
            ]
          },
          "metadata": {
            "tags": []
          },
          "execution_count": 18
        }
      ]
    },
    {
      "cell_type": "code",
      "metadata": {
        "id": "YAb-zJvZE9xG",
        "colab": {
          "base_uri": "https://localhost:8080/"
        },
        "outputId": "09e8e0c1-d415-47b1-8b1e-c627ce03768c"
      },
      "source": [
        "insert = '''\n",
        "INSERT INTO ACTS_IN(act_id,mov_id)\n",
        "VALUES ('111','M01'),\n",
        "       ('111','M20'),\n",
        "       ('112','M02'),\n",
        "       ('112','M09'),\n",
        "       ('112','M16'),\n",
        "       ('112','M10'),\n",
        "       ('113','M16'),\n",
        "       ('113','M03'),\n",
        "       ('114','M04'),\n",
        "       ('115','M05'),\n",
        "       ('115','M10'),\n",
        "       ('115','M13'),\n",
        "       ('115','M16'),\n",
        "       ('116','M06'),\n",
        "       ('116','M17'),\n",
        "       ('117','M07'),\n",
        "       ('118','M08'),\n",
        "       ('119','M27'),\n",
        "       ('120','M26'),\n",
        "       ('121','M29'),\n",
        "       ('122','M28')\n",
        "        '''\n",
        "\n",
        "\n",
        "cursor.execute(insert)\n",
        "\n",
        "\n",
        "\n",
        "      "
      ],
      "execution_count": null,
      "outputs": [
        {
          "output_type": "execute_result",
          "data": {
            "text/plain": [
              "<sqlite3.Cursor at 0x7fbe4b75f2d0>"
            ]
          },
          "metadata": {
            "tags": []
          },
          "execution_count": 19
        }
      ]
    },
    {
      "cell_type": "code",
      "metadata": {
        "colab": {
          "base_uri": "https://localhost:8080/"
        },
        "id": "3oLIYGpptOc5",
        "outputId": "5a67a510-2da6-4c1d-f611-f1350baf9a95"
      },
      "source": [
        "insert = '''\n",
        "INSERT INTO DIRECTED_BY(dir_id,mov_id)\n",
        "VALUES ('D02','M01'),\n",
        "       ('D03','M02'),\n",
        "       ('D04','M03'),\n",
        "       ('D05','M04'),\n",
        "       ('D06','M05'),\n",
        "       ('D07','M06'),\n",
        "       ('D08','M07'),\n",
        "       ('D09','M08'),\n",
        "       ('D10','M09'),\n",
        "       ('D11','M10'),\n",
        "       ('D12','M11'),\n",
        "       ('D13','M12'),\n",
        "       ('D14','M13'),\n",
        "       ('D14','M14'),\n",
        "       ('D16','M15'),\n",
        "       ('D17','M16'),\n",
        "       ('D18','M17'),\n",
        "       ('D04','M18'),\n",
        "       ('D19','M19'),\n",
        "       ('D20','M20'),\n",
        "       ('D21','M21'),\n",
        "       ('D22','M22'),\n",
        "       ('D24','M23'),\n",
        "       ('D05','M24'),\n",
        "       ('D23','M25'),\n",
        "       ('D26','M26'),\n",
        "       ('D25','M27'),\n",
        "       ('D28','M28'),\n",
        "       ('D27','M29')\n",
        "\n",
        "       '''\n",
        "\n",
        "\n",
        "cursor.execute(insert)\n"
      ],
      "execution_count": null,
      "outputs": [
        {
          "output_type": "execute_result",
          "data": {
            "text/plain": [
              "<sqlite3.Cursor at 0x7fbe4b75f2d0>"
            ]
          },
          "metadata": {
            "tags": []
          },
          "execution_count": 20
        }
      ]
    },
    {
      "cell_type": "code",
      "metadata": {
        "colab": {
          "base_uri": "https://localhost:8080/"
        },
        "id": "zCVA5Cl0yjFh",
        "outputId": "05f87ef2-6897-429a-f56b-2feebebcf3be"
      },
      "source": [
        "insert = '''\n",
        "INSERT INTO ALSO_AN(dir_id,act_id)\n",
        "VALUES ('D25','119'),\n",
        "       ('D26','120'),\n",
        "       ('D27','121'),\n",
        "       ('D28','122') '''\n",
        "\n",
        "\n",
        "cursor.execute(insert)\n"
      ],
      "execution_count": null,
      "outputs": [
        {
          "output_type": "execute_result",
          "data": {
            "text/plain": [
              "<sqlite3.Cursor at 0x7fbe4b75f2d0>"
            ]
          },
          "metadata": {
            "tags": []
          },
          "execution_count": 21
        }
      ]
    },
    {
      "cell_type": "markdown",
      "metadata": {
        "id": "Q8eczaXPILKZ"
      },
      "source": [
        "BURRRRRRRRRRRRRRRRRRRRRRRRRRRRRRRRRRRRRRRRRRRRRRRRRR"
      ]
    },
    {
      "cell_type": "code",
      "metadata": {
        "id": "HhLQHiRE46bK",
        "colab": {
          "base_uri": "https://localhost:8080/",
          "height": 888
        },
        "outputId": "44d2fea6-fd9e-4a19-943c-0d2580087321"
      },
      "source": [
        "qB = '''SELECT * FROM DIRECTOR'''\n",
        "\n",
        "execute = pd.read_sql_query(qB, conn)\n",
        "execute"
      ],
      "execution_count": null,
      "outputs": [
        {
          "output_type": "execute_result",
          "data": {
            "text/html": [
              "<div>\n",
              "<style scoped>\n",
              "    .dataframe tbody tr th:only-of-type {\n",
              "        vertical-align: middle;\n",
              "    }\n",
              "\n",
              "    .dataframe tbody tr th {\n",
              "        vertical-align: top;\n",
              "    }\n",
              "\n",
              "    .dataframe thead th {\n",
              "        text-align: right;\n",
              "    }\n",
              "</style>\n",
              "<table border=\"1\" class=\"dataframe\">\n",
              "  <thead>\n",
              "    <tr style=\"text-align: right;\">\n",
              "      <th></th>\n",
              "      <th>dir_id</th>\n",
              "      <th>dir_name</th>\n",
              "      <th>nationality</th>\n",
              "    </tr>\n",
              "  </thead>\n",
              "  <tbody>\n",
              "    <tr>\n",
              "      <th>0</th>\n",
              "      <td>D01</td>\n",
              "      <td>Zack Snyder</td>\n",
              "      <td>American</td>\n",
              "    </tr>\n",
              "    <tr>\n",
              "      <th>1</th>\n",
              "      <td>D02</td>\n",
              "      <td>Sam Mendes</td>\n",
              "      <td>American</td>\n",
              "    </tr>\n",
              "    <tr>\n",
              "      <th>2</th>\n",
              "      <td>D03</td>\n",
              "      <td>Jon Favreau</td>\n",
              "      <td>Australian</td>\n",
              "    </tr>\n",
              "    <tr>\n",
              "      <th>3</th>\n",
              "      <td>D04</td>\n",
              "      <td>Taika Waititi</td>\n",
              "      <td>American</td>\n",
              "    </tr>\n",
              "    <tr>\n",
              "      <th>4</th>\n",
              "      <td>D05</td>\n",
              "      <td>James Wan</td>\n",
              "      <td>American</td>\n",
              "    </tr>\n",
              "    <tr>\n",
              "      <th>5</th>\n",
              "      <td>D06</td>\n",
              "      <td>Louis Leterrier</td>\n",
              "      <td>American</td>\n",
              "    </tr>\n",
              "    <tr>\n",
              "      <th>6</th>\n",
              "      <td>D07</td>\n",
              "      <td>Bill Condon</td>\n",
              "      <td>British</td>\n",
              "    </tr>\n",
              "    <tr>\n",
              "      <th>7</th>\n",
              "      <td>D08</td>\n",
              "      <td>Francis Ford Coppola</td>\n",
              "      <td>British</td>\n",
              "    </tr>\n",
              "    <tr>\n",
              "      <th>8</th>\n",
              "      <td>D09</td>\n",
              "      <td>Patty Jenkins</td>\n",
              "      <td>British</td>\n",
              "    </tr>\n",
              "    <tr>\n",
              "      <th>9</th>\n",
              "      <td>D10</td>\n",
              "      <td>Guy Ritchie</td>\n",
              "      <td>American</td>\n",
              "    </tr>\n",
              "    <tr>\n",
              "      <th>10</th>\n",
              "      <td>D11</td>\n",
              "      <td>Daivd Fincher</td>\n",
              "      <td>British</td>\n",
              "    </tr>\n",
              "    <tr>\n",
              "      <th>11</th>\n",
              "      <td>D12</td>\n",
              "      <td>Martin Scorsese</td>\n",
              "      <td>American</td>\n",
              "    </tr>\n",
              "    <tr>\n",
              "      <th>12</th>\n",
              "      <td>D13</td>\n",
              "      <td>James Cameron</td>\n",
              "      <td>Canadian</td>\n",
              "    </tr>\n",
              "    <tr>\n",
              "      <th>13</th>\n",
              "      <td>D14</td>\n",
              "      <td>Jon M Chu</td>\n",
              "      <td>Canadian</td>\n",
              "    </tr>\n",
              "    <tr>\n",
              "      <th>14</th>\n",
              "      <td>D15</td>\n",
              "      <td>Lana Wachowski</td>\n",
              "      <td>British</td>\n",
              "    </tr>\n",
              "    <tr>\n",
              "      <th>15</th>\n",
              "      <td>D16</td>\n",
              "      <td>Chad Stahelski</td>\n",
              "      <td>British</td>\n",
              "    </tr>\n",
              "    <tr>\n",
              "      <th>16</th>\n",
              "      <td>D17</td>\n",
              "      <td>Joss Whedon</td>\n",
              "      <td>British</td>\n",
              "    </tr>\n",
              "    <tr>\n",
              "      <th>17</th>\n",
              "      <td>D18</td>\n",
              "      <td>Chris Columbus</td>\n",
              "      <td>British</td>\n",
              "    </tr>\n",
              "    <tr>\n",
              "      <th>18</th>\n",
              "      <td>D19</td>\n",
              "      <td>Brian De Palma</td>\n",
              "      <td>British</td>\n",
              "    </tr>\n",
              "    <tr>\n",
              "      <th>19</th>\n",
              "      <td>D20</td>\n",
              "      <td>Martin Campbell</td>\n",
              "      <td>American</td>\n",
              "    </tr>\n",
              "    <tr>\n",
              "      <th>20</th>\n",
              "      <td>D21</td>\n",
              "      <td>David Sandberg</td>\n",
              "      <td>Canadian</td>\n",
              "    </tr>\n",
              "    <tr>\n",
              "      <th>21</th>\n",
              "      <td>D22</td>\n",
              "      <td>George Lucas</td>\n",
              "      <td>British</td>\n",
              "    </tr>\n",
              "    <tr>\n",
              "      <th>22</th>\n",
              "      <td>D23</td>\n",
              "      <td>Josh Boone</td>\n",
              "      <td>Australian</td>\n",
              "    </tr>\n",
              "    <tr>\n",
              "      <th>23</th>\n",
              "      <td>D24</td>\n",
              "      <td>Christopher Nolan</td>\n",
              "      <td>British</td>\n",
              "    </tr>\n",
              "    <tr>\n",
              "      <th>24</th>\n",
              "      <td>D25</td>\n",
              "      <td>Mel Gibson</td>\n",
              "      <td>American</td>\n",
              "    </tr>\n",
              "    <tr>\n",
              "      <th>25</th>\n",
              "      <td>D26</td>\n",
              "      <td>Bradley Cooper</td>\n",
              "      <td>American</td>\n",
              "    </tr>\n",
              "    <tr>\n",
              "      <th>26</th>\n",
              "      <td>D27</td>\n",
              "      <td>Ben Affleck</td>\n",
              "      <td>American</td>\n",
              "    </tr>\n",
              "    <tr>\n",
              "      <th>27</th>\n",
              "      <td>D28</td>\n",
              "      <td>Angelina Jolie</td>\n",
              "      <td>American</td>\n",
              "    </tr>\n",
              "  </tbody>\n",
              "</table>\n",
              "</div>"
            ],
            "text/plain": [
              "   dir_id              dir_name nationality\n",
              "0     D01           Zack Snyder    American\n",
              "1     D02            Sam Mendes    American\n",
              "2     D03           Jon Favreau  Australian\n",
              "3     D04         Taika Waititi    American\n",
              "4     D05             James Wan    American\n",
              "5     D06       Louis Leterrier    American\n",
              "6     D07           Bill Condon     British\n",
              "7     D08  Francis Ford Coppola     British\n",
              "8     D09         Patty Jenkins     British\n",
              "9     D10           Guy Ritchie    American\n",
              "10    D11         Daivd Fincher     British\n",
              "11    D12       Martin Scorsese    American\n",
              "12    D13         James Cameron    Canadian\n",
              "13    D14            Jon M Chu     Canadian\n",
              "14    D15        Lana Wachowski     British\n",
              "15    D16        Chad Stahelski     British\n",
              "16    D17           Joss Whedon     British\n",
              "17    D18        Chris Columbus     British\n",
              "18    D19        Brian De Palma     British\n",
              "19    D20       Martin Campbell    American\n",
              "20    D21        David Sandberg    Canadian\n",
              "21    D22          George Lucas     British\n",
              "22    D23            Josh Boone  Australian\n",
              "23    D24     Christopher Nolan     British\n",
              "24    D25            Mel Gibson    American\n",
              "25    D26        Bradley Cooper    American\n",
              "26    D27           Ben Affleck    American\n",
              "27    D28        Angelina Jolie    American"
            ]
          },
          "metadata": {
            "tags": []
          },
          "execution_count": 22
        }
      ]
    },
    {
      "cell_type": "code",
      "metadata": {
        "colab": {
          "base_uri": "https://localhost:8080/",
          "height": 918
        },
        "id": "jBQ0Ofuf3N0a",
        "outputId": "279440e6-e357-4276-f4e7-158f5adb5360"
      },
      "source": [
        "qR = '''SELECT * FROM MOVIE'''\n",
        "\n",
        "\n",
        "execute = pd.read_sql_query(qR, conn)\n",
        "execute"
      ],
      "execution_count": null,
      "outputs": [
        {
          "output_type": "execute_result",
          "data": {
            "text/html": [
              "<div>\n",
              "<style scoped>\n",
              "    .dataframe tbody tr th:only-of-type {\n",
              "        vertical-align: middle;\n",
              "    }\n",
              "\n",
              "    .dataframe tbody tr th {\n",
              "        vertical-align: top;\n",
              "    }\n",
              "\n",
              "    .dataframe thead th {\n",
              "        text-align: right;\n",
              "    }\n",
              "</style>\n",
              "<table border=\"1\" class=\"dataframe\">\n",
              "  <thead>\n",
              "    <tr style=\"text-align: right;\">\n",
              "      <th></th>\n",
              "      <th>mov_id</th>\n",
              "      <th>mov_name</th>\n",
              "      <th>mov_time</th>\n",
              "      <th>mov_year</th>\n",
              "    </tr>\n",
              "  </thead>\n",
              "  <tbody>\n",
              "    <tr>\n",
              "      <th>0</th>\n",
              "      <td>M01</td>\n",
              "      <td>SKYFALL</td>\n",
              "      <td>2hrs</td>\n",
              "      <td>2010</td>\n",
              "    </tr>\n",
              "    <tr>\n",
              "      <th>1</th>\n",
              "      <td>M02</td>\n",
              "      <td>Iron Man</td>\n",
              "      <td>2hrs 6min</td>\n",
              "      <td>2008</td>\n",
              "    </tr>\n",
              "    <tr>\n",
              "      <th>2</th>\n",
              "      <td>M03</td>\n",
              "      <td>Jojo Rabbit</td>\n",
              "      <td>1hr 48min</td>\n",
              "      <td>2019</td>\n",
              "    </tr>\n",
              "    <tr>\n",
              "      <th>3</th>\n",
              "      <td>M04</td>\n",
              "      <td>aquaman</td>\n",
              "      <td>2hr 22min</td>\n",
              "      <td>2018</td>\n",
              "    </tr>\n",
              "    <tr>\n",
              "      <th>4</th>\n",
              "      <td>M05</td>\n",
              "      <td>Now You See Me</td>\n",
              "      <td>2hr 5min</td>\n",
              "      <td>2013</td>\n",
              "    </tr>\n",
              "    <tr>\n",
              "      <th>5</th>\n",
              "      <td>M06</td>\n",
              "      <td>Beauty and the beast</td>\n",
              "      <td>2hr 10min</td>\n",
              "      <td>2017</td>\n",
              "    </tr>\n",
              "    <tr>\n",
              "      <th>6</th>\n",
              "      <td>M07</td>\n",
              "      <td>The Godfather</td>\n",
              "      <td>2hr 58min</td>\n",
              "      <td>1972</td>\n",
              "    </tr>\n",
              "    <tr>\n",
              "      <th>7</th>\n",
              "      <td>M08</td>\n",
              "      <td>Wonder woman</td>\n",
              "      <td>2hr 29min</td>\n",
              "      <td>2017</td>\n",
              "    </tr>\n",
              "    <tr>\n",
              "      <th>8</th>\n",
              "      <td>M09</td>\n",
              "      <td>Sherlock Holmes</td>\n",
              "      <td>2hr 9min</td>\n",
              "      <td>2010</td>\n",
              "    </tr>\n",
              "    <tr>\n",
              "      <th>9</th>\n",
              "      <td>M10</td>\n",
              "      <td>Zodiac</td>\n",
              "      <td>2hr 42min</td>\n",
              "      <td>2007</td>\n",
              "    </tr>\n",
              "    <tr>\n",
              "      <th>10</th>\n",
              "      <td>M11</td>\n",
              "      <td>Shutter Island</td>\n",
              "      <td>2hr 19min</td>\n",
              "      <td>2010</td>\n",
              "    </tr>\n",
              "    <tr>\n",
              "      <th>11</th>\n",
              "      <td>M12</td>\n",
              "      <td>Titanic</td>\n",
              "      <td>3hr 30min</td>\n",
              "      <td>1997</td>\n",
              "    </tr>\n",
              "    <tr>\n",
              "      <th>12</th>\n",
              "      <td>M13</td>\n",
              "      <td>Now You See Me 2</td>\n",
              "      <td>2hr 10min</td>\n",
              "      <td>2016</td>\n",
              "    </tr>\n",
              "    <tr>\n",
              "      <th>13</th>\n",
              "      <td>M14</td>\n",
              "      <td>Matrix</td>\n",
              "      <td>2hr 30min</td>\n",
              "      <td>1999</td>\n",
              "    </tr>\n",
              "    <tr>\n",
              "      <th>14</th>\n",
              "      <td>M15</td>\n",
              "      <td>John Wick</td>\n",
              "      <td>1hr 42min</td>\n",
              "      <td>2014</td>\n",
              "    </tr>\n",
              "    <tr>\n",
              "      <th>15</th>\n",
              "      <td>M16</td>\n",
              "      <td>Avengers</td>\n",
              "      <td>2hr 24min</td>\n",
              "      <td>2012</td>\n",
              "    </tr>\n",
              "    <tr>\n",
              "      <th>16</th>\n",
              "      <td>M17</td>\n",
              "      <td>Harry Potter and The Philosophers Stone</td>\n",
              "      <td>2hr 39min</td>\n",
              "      <td>2001</td>\n",
              "    </tr>\n",
              "    <tr>\n",
              "      <th>17</th>\n",
              "      <td>M18</td>\n",
              "      <td>Thor : Ragnarok</td>\n",
              "      <td>2hr 10min</td>\n",
              "      <td>2017</td>\n",
              "    </tr>\n",
              "    <tr>\n",
              "      <th>18</th>\n",
              "      <td>M19</td>\n",
              "      <td>Scarface</td>\n",
              "      <td>2hr 50min</td>\n",
              "      <td>1983</td>\n",
              "    </tr>\n",
              "    <tr>\n",
              "      <th>19</th>\n",
              "      <td>M20</td>\n",
              "      <td>Casino Royale</td>\n",
              "      <td>2hr 25min</td>\n",
              "      <td>2006</td>\n",
              "    </tr>\n",
              "    <tr>\n",
              "      <th>20</th>\n",
              "      <td>M21</td>\n",
              "      <td>Lights Out</td>\n",
              "      <td>1hr 21min</td>\n",
              "      <td>2016</td>\n",
              "    </tr>\n",
              "    <tr>\n",
              "      <th>21</th>\n",
              "      <td>M22</td>\n",
              "      <td>Star Wars Episode 1</td>\n",
              "      <td>2hr 16min</td>\n",
              "      <td>1999</td>\n",
              "    </tr>\n",
              "    <tr>\n",
              "      <th>22</th>\n",
              "      <td>M23</td>\n",
              "      <td>Interstellar</td>\n",
              "      <td>2hr 49min</td>\n",
              "      <td>2014</td>\n",
              "    </tr>\n",
              "    <tr>\n",
              "      <th>23</th>\n",
              "      <td>M24</td>\n",
              "      <td>Conjuring</td>\n",
              "      <td>1hr 52min</td>\n",
              "      <td>2013</td>\n",
              "    </tr>\n",
              "    <tr>\n",
              "      <th>24</th>\n",
              "      <td>M25</td>\n",
              "      <td>The Fault In Our Stars</td>\n",
              "      <td>2hr 13min</td>\n",
              "      <td>2014</td>\n",
              "    </tr>\n",
              "    <tr>\n",
              "      <th>25</th>\n",
              "      <td>M26</td>\n",
              "      <td>A Star Is Born</td>\n",
              "      <td>2hr 35min</td>\n",
              "      <td>2018</td>\n",
              "    </tr>\n",
              "    <tr>\n",
              "      <th>26</th>\n",
              "      <td>M27</td>\n",
              "      <td>Braveheart</td>\n",
              "      <td>3hr 02min</td>\n",
              "      <td>1995</td>\n",
              "    </tr>\n",
              "    <tr>\n",
              "      <th>27</th>\n",
              "      <td>M28</td>\n",
              "      <td>By The Sea</td>\n",
              "      <td>2hr 13min</td>\n",
              "      <td>2015</td>\n",
              "    </tr>\n",
              "    <tr>\n",
              "      <th>28</th>\n",
              "      <td>M29</td>\n",
              "      <td>Argo</td>\n",
              "      <td>2hr 10min</td>\n",
              "      <td>2012</td>\n",
              "    </tr>\n",
              "  </tbody>\n",
              "</table>\n",
              "</div>"
            ],
            "text/plain": [
              "   mov_id                                 mov_name   mov_time  mov_year\n",
              "0     M01                                  SKYFALL       2hrs      2010\n",
              "1     M02                                 Iron Man  2hrs 6min      2008\n",
              "2     M03                              Jojo Rabbit  1hr 48min      2019\n",
              "3     M04                                  aquaman  2hr 22min      2018\n",
              "4     M05                           Now You See Me   2hr 5min      2013\n",
              "5     M06                     Beauty and the beast  2hr 10min      2017\n",
              "6     M07                            The Godfather  2hr 58min      1972\n",
              "7     M08                             Wonder woman  2hr 29min      2017\n",
              "8     M09                          Sherlock Holmes   2hr 9min      2010\n",
              "9     M10                                   Zodiac  2hr 42min      2007\n",
              "10    M11                           Shutter Island  2hr 19min      2010\n",
              "11    M12                                  Titanic  3hr 30min      1997\n",
              "12    M13                         Now You See Me 2  2hr 10min      2016\n",
              "13    M14                                   Matrix  2hr 30min      1999\n",
              "14    M15                                John Wick  1hr 42min      2014\n",
              "15    M16                                 Avengers  2hr 24min      2012\n",
              "16    M17  Harry Potter and The Philosophers Stone  2hr 39min      2001\n",
              "17    M18                          Thor : Ragnarok  2hr 10min      2017\n",
              "18    M19                                 Scarface  2hr 50min      1983\n",
              "19    M20                            Casino Royale  2hr 25min      2006\n",
              "20    M21                               Lights Out  1hr 21min      2016\n",
              "21    M22                      Star Wars Episode 1  2hr 16min      1999\n",
              "22    M23                             Interstellar  2hr 49min      2014\n",
              "23    M24                                Conjuring  1hr 52min      2013\n",
              "24    M25                   The Fault In Our Stars  2hr 13min      2014\n",
              "25    M26                           A Star Is Born  2hr 35min      2018\n",
              "26    M27                               Braveheart  3hr 02min      1995\n",
              "27    M28                               By The Sea  2hr 13min      2015\n",
              "28    M29                                     Argo  2hr 10min      2012"
            ]
          },
          "metadata": {
            "tags": []
          },
          "execution_count": 23
        }
      ]
    },
    {
      "cell_type": "code",
      "metadata": {
        "colab": {
          "base_uri": "https://localhost:8080/",
          "height": 798
        },
        "id": "ItSf1_oU0Kq8",
        "outputId": "da34655c-40c8-4231-ec4d-5ce55d3b9f1c"
      },
      "source": [
        "qE = '''SELECT * FROM PROD_COMP'''\n",
        "\n",
        "execute = pd.read_sql_query(qE, conn)\n",
        "execute"
      ],
      "execution_count": null,
      "outputs": [
        {
          "output_type": "execute_result",
          "data": {
            "text/html": [
              "<div>\n",
              "<style scoped>\n",
              "    .dataframe tbody tr th:only-of-type {\n",
              "        vertical-align: middle;\n",
              "    }\n",
              "\n",
              "    .dataframe tbody tr th {\n",
              "        vertical-align: top;\n",
              "    }\n",
              "\n",
              "    .dataframe thead th {\n",
              "        text-align: right;\n",
              "    }\n",
              "</style>\n",
              "<table border=\"1\" class=\"dataframe\">\n",
              "  <thead>\n",
              "    <tr style=\"text-align: right;\">\n",
              "      <th></th>\n",
              "      <th>prod_id</th>\n",
              "      <th>prod_name</th>\n",
              "      <th>producer_name</th>\n",
              "    </tr>\n",
              "  </thead>\n",
              "  <tbody>\n",
              "    <tr>\n",
              "      <th>0</th>\n",
              "      <td>P01</td>\n",
              "      <td>Columbia Pictures</td>\n",
              "      <td>Micheal Wilson</td>\n",
              "    </tr>\n",
              "    <tr>\n",
              "      <th>1</th>\n",
              "      <td>P02</td>\n",
              "      <td>Marvel Studios</td>\n",
              "      <td>Kevin Feige</td>\n",
              "    </tr>\n",
              "    <tr>\n",
              "      <th>2</th>\n",
              "      <td>P03</td>\n",
              "      <td>Piki Films</td>\n",
              "      <td>Taika Waititi</td>\n",
              "    </tr>\n",
              "    <tr>\n",
              "      <th>3</th>\n",
              "      <td>P04</td>\n",
              "      <td>DC Films</td>\n",
              "      <td>Peter Safran</td>\n",
              "    </tr>\n",
              "    <tr>\n",
              "      <th>4</th>\n",
              "      <td>P05</td>\n",
              "      <td>Summit Entertainment</td>\n",
              "      <td>Bobby Cohen</td>\n",
              "    </tr>\n",
              "    <tr>\n",
              "      <th>5</th>\n",
              "      <td>P06</td>\n",
              "      <td>Walt Disney Pictures</td>\n",
              "      <td>David Hoberman</td>\n",
              "    </tr>\n",
              "    <tr>\n",
              "      <th>6</th>\n",
              "      <td>P07</td>\n",
              "      <td>Columbia Pictures</td>\n",
              "      <td>Micheal Wilson</td>\n",
              "    </tr>\n",
              "    <tr>\n",
              "      <th>7</th>\n",
              "      <td>P08</td>\n",
              "      <td>DC Films</td>\n",
              "      <td>Zack Shnyder</td>\n",
              "    </tr>\n",
              "    <tr>\n",
              "      <th>8</th>\n",
              "      <td>P09</td>\n",
              "      <td>Paramount Pictures</td>\n",
              "      <td>Albert Ruddy</td>\n",
              "    </tr>\n",
              "    <tr>\n",
              "      <th>9</th>\n",
              "      <td>P10</td>\n",
              "      <td>Warner Bros Pictures</td>\n",
              "      <td>Susan Downey</td>\n",
              "    </tr>\n",
              "    <tr>\n",
              "      <th>10</th>\n",
              "      <td>P11</td>\n",
              "      <td>DC Films</td>\n",
              "      <td>Peter Safran</td>\n",
              "    </tr>\n",
              "    <tr>\n",
              "      <th>11</th>\n",
              "      <td>P12</td>\n",
              "      <td>Warner Bros Pictures</td>\n",
              "      <td>Brad Fischer</td>\n",
              "    </tr>\n",
              "    <tr>\n",
              "      <th>12</th>\n",
              "      <td>P13</td>\n",
              "      <td>Paramount Pictures</td>\n",
              "      <td>Martin Scorsese</td>\n",
              "    </tr>\n",
              "    <tr>\n",
              "      <th>13</th>\n",
              "      <td>P14</td>\n",
              "      <td>Paramount Pictures</td>\n",
              "      <td>James Cameron</td>\n",
              "    </tr>\n",
              "    <tr>\n",
              "      <th>14</th>\n",
              "      <td>P15</td>\n",
              "      <td>Summit Entertainment</td>\n",
              "      <td>Bobby Cohen</td>\n",
              "    </tr>\n",
              "    <tr>\n",
              "      <th>15</th>\n",
              "      <td>P16</td>\n",
              "      <td>Warner Bros Pictures</td>\n",
              "      <td>Joel Silver</td>\n",
              "    </tr>\n",
              "    <tr>\n",
              "      <th>16</th>\n",
              "      <td>P17</td>\n",
              "      <td>Summit Entertainment</td>\n",
              "      <td>Eva Longoria</td>\n",
              "    </tr>\n",
              "    <tr>\n",
              "      <th>17</th>\n",
              "      <td>P18</td>\n",
              "      <td>Warner Bros Pictures</td>\n",
              "      <td>David Hayman</td>\n",
              "    </tr>\n",
              "    <tr>\n",
              "      <th>18</th>\n",
              "      <td>P19</td>\n",
              "      <td>Cado Company</td>\n",
              "      <td>Martin Regman</td>\n",
              "    </tr>\n",
              "    <tr>\n",
              "      <th>19</th>\n",
              "      <td>P20</td>\n",
              "      <td>New Line Cinema</td>\n",
              "      <td>James Wan</td>\n",
              "    </tr>\n",
              "    <tr>\n",
              "      <th>20</th>\n",
              "      <td>P21</td>\n",
              "      <td>Lucas Films</td>\n",
              "      <td>Rick McCallum</td>\n",
              "    </tr>\n",
              "    <tr>\n",
              "      <th>21</th>\n",
              "      <td>P22</td>\n",
              "      <td>Warner Bros Pictures</td>\n",
              "      <td>Christopher Nolan</td>\n",
              "    </tr>\n",
              "    <tr>\n",
              "      <th>22</th>\n",
              "      <td>P23</td>\n",
              "      <td>New Line Cinema</td>\n",
              "      <td>Rob Cowan</td>\n",
              "    </tr>\n",
              "    <tr>\n",
              "      <th>23</th>\n",
              "      <td>P24</td>\n",
              "      <td>Fox 2000 Pictures</td>\n",
              "      <td>Marty Bowen</td>\n",
              "    </tr>\n",
              "    <tr>\n",
              "      <th>24</th>\n",
              "      <td>P25</td>\n",
              "      <td>Eros International</td>\n",
              "      <td>Kishore Lulla</td>\n",
              "    </tr>\n",
              "  </tbody>\n",
              "</table>\n",
              "</div>"
            ],
            "text/plain": [
              "   prod_id             prod_name      producer_name\n",
              "0      P01     Columbia Pictures     Micheal Wilson\n",
              "1      P02        Marvel Studios        Kevin Feige\n",
              "2      P03            Piki Films      Taika Waititi\n",
              "3      P04              DC Films       Peter Safran\n",
              "4      P05  Summit Entertainment        Bobby Cohen\n",
              "5      P06  Walt Disney Pictures     David Hoberman\n",
              "6      P07     Columbia Pictures     Micheal Wilson\n",
              "7      P08              DC Films       Zack Shnyder\n",
              "8      P09    Paramount Pictures       Albert Ruddy\n",
              "9      P10  Warner Bros Pictures       Susan Downey\n",
              "10     P11              DC Films       Peter Safran\n",
              "11     P12  Warner Bros Pictures       Brad Fischer\n",
              "12     P13    Paramount Pictures    Martin Scorsese\n",
              "13     P14    Paramount Pictures      James Cameron\n",
              "14     P15  Summit Entertainment        Bobby Cohen\n",
              "15     P16  Warner Bros Pictures        Joel Silver\n",
              "16     P17  Summit Entertainment       Eva Longoria\n",
              "17     P18  Warner Bros Pictures       David Hayman\n",
              "18     P19          Cado Company      Martin Regman\n",
              "19     P20       New Line Cinema          James Wan\n",
              "20     P21           Lucas Films      Rick McCallum\n",
              "21     P22  Warner Bros Pictures  Christopher Nolan\n",
              "22     P23       New Line Cinema          Rob Cowan\n",
              "23     P24     Fox 2000 Pictures        Marty Bowen\n",
              "24     P25    Eros International      Kishore Lulla"
            ]
          },
          "metadata": {
            "tags": []
          },
          "execution_count": 24
        }
      ]
    },
    {
      "cell_type": "code",
      "metadata": {
        "colab": {
          "base_uri": "https://localhost:8080/",
          "height": 918
        },
        "id": "KBT_PeGNEvz0",
        "outputId": "8e20af7d-e53f-4e53-e5d8-0b8686d49fc4"
      },
      "source": [
        "qT = '''SELECT * FROM RATING'''\n",
        "\n",
        "execute = pd.read_sql_query(qT, conn)\n",
        "execute"
      ],
      "execution_count": null,
      "outputs": [
        {
          "output_type": "execute_result",
          "data": {
            "text/html": [
              "<div>\n",
              "<style scoped>\n",
              "    .dataframe tbody tr th:only-of-type {\n",
              "        vertical-align: middle;\n",
              "    }\n",
              "\n",
              "    .dataframe tbody tr th {\n",
              "        vertical-align: top;\n",
              "    }\n",
              "\n",
              "    .dataframe thead th {\n",
              "        text-align: right;\n",
              "    }\n",
              "</style>\n",
              "<table border=\"1\" class=\"dataframe\">\n",
              "  <thead>\n",
              "    <tr style=\"text-align: right;\">\n",
              "      <th></th>\n",
              "      <th>mov_id</th>\n",
              "      <th>mov_rating</th>\n",
              "      <th>number_of_rating</th>\n",
              "    </tr>\n",
              "  </thead>\n",
              "  <tbody>\n",
              "    <tr>\n",
              "      <th>0</th>\n",
              "      <td>M01</td>\n",
              "      <td>7.9</td>\n",
              "      <td>633921</td>\n",
              "    </tr>\n",
              "    <tr>\n",
              "      <th>1</th>\n",
              "      <td>M02</td>\n",
              "      <td>7.9</td>\n",
              "      <td>950717</td>\n",
              "    </tr>\n",
              "    <tr>\n",
              "      <th>2</th>\n",
              "      <td>M03</td>\n",
              "      <td>7.7</td>\n",
              "      <td>210485</td>\n",
              "    </tr>\n",
              "    <tr>\n",
              "      <th>3</th>\n",
              "      <td>M04</td>\n",
              "      <td>6.9</td>\n",
              "      <td>386223</td>\n",
              "    </tr>\n",
              "    <tr>\n",
              "      <th>4</th>\n",
              "      <td>M05</td>\n",
              "      <td>7.3</td>\n",
              "      <td>601032</td>\n",
              "    </tr>\n",
              "    <tr>\n",
              "      <th>5</th>\n",
              "      <td>M06</td>\n",
              "      <td>7.1</td>\n",
              "      <td>277742</td>\n",
              "    </tr>\n",
              "    <tr>\n",
              "      <th>6</th>\n",
              "      <td>M07</td>\n",
              "      <td>9.2</td>\n",
              "      <td>16411</td>\n",
              "    </tr>\n",
              "    <tr>\n",
              "      <th>7</th>\n",
              "      <td>M08</td>\n",
              "      <td>7.4</td>\n",
              "      <td>583071</td>\n",
              "    </tr>\n",
              "    <tr>\n",
              "      <th>8</th>\n",
              "      <td>M09</td>\n",
              "      <td>7.6</td>\n",
              "      <td>586914</td>\n",
              "    </tr>\n",
              "    <tr>\n",
              "      <th>9</th>\n",
              "      <td>M10</td>\n",
              "      <td>7.7</td>\n",
              "      <td>474136</td>\n",
              "    </tr>\n",
              "    <tr>\n",
              "      <th>10</th>\n",
              "      <td>M11</td>\n",
              "      <td>8.2</td>\n",
              "      <td>11471</td>\n",
              "    </tr>\n",
              "    <tr>\n",
              "      <th>11</th>\n",
              "      <td>M12</td>\n",
              "      <td>7.8</td>\n",
              "      <td>10573</td>\n",
              "    </tr>\n",
              "    <tr>\n",
              "      <th>12</th>\n",
              "      <td>M13</td>\n",
              "      <td>6.5</td>\n",
              "      <td>‎312673</td>\n",
              "    </tr>\n",
              "    <tr>\n",
              "      <th>13</th>\n",
              "      <td>M14</td>\n",
              "      <td>8.7</td>\n",
              "      <td>‎229762</td>\n",
              "    </tr>\n",
              "    <tr>\n",
              "      <th>14</th>\n",
              "      <td>M15</td>\n",
              "      <td>7.4</td>\n",
              "      <td>546652</td>\n",
              "    </tr>\n",
              "    <tr>\n",
              "      <th>15</th>\n",
              "      <td>M16</td>\n",
              "      <td>8.1</td>\n",
              "      <td>‎127536</td>\n",
              "    </tr>\n",
              "    <tr>\n",
              "      <th>16</th>\n",
              "      <td>M17</td>\n",
              "      <td>7.6</td>\n",
              "      <td>667414</td>\n",
              "    </tr>\n",
              "    <tr>\n",
              "      <th>17</th>\n",
              "      <td>M18</td>\n",
              "      <td>7.9</td>\n",
              "      <td>‎602382</td>\n",
              "    </tr>\n",
              "    <tr>\n",
              "      <th>18</th>\n",
              "      <td>M19</td>\n",
              "      <td>8.3</td>\n",
              "      <td>750706</td>\n",
              "    </tr>\n",
              "    <tr>\n",
              "      <th>19</th>\n",
              "      <td>M20</td>\n",
              "      <td>8.3</td>\n",
              "      <td>750706</td>\n",
              "    </tr>\n",
              "    <tr>\n",
              "      <th>20</th>\n",
              "      <td>M21</td>\n",
              "      <td>6.3</td>\n",
              "      <td>116221</td>\n",
              "    </tr>\n",
              "    <tr>\n",
              "      <th>21</th>\n",
              "      <td>M22</td>\n",
              "      <td>6.5</td>\n",
              "      <td>‎73700</td>\n",
              "    </tr>\n",
              "    <tr>\n",
              "      <th>22</th>\n",
              "      <td>M23</td>\n",
              "      <td>8.6</td>\n",
              "      <td>1538047</td>\n",
              "    </tr>\n",
              "    <tr>\n",
              "      <th>23</th>\n",
              "      <td>M24</td>\n",
              "      <td>7.5</td>\n",
              "      <td>446591</td>\n",
              "    </tr>\n",
              "    <tr>\n",
              "      <th>24</th>\n",
              "      <td>M25</td>\n",
              "      <td>7.7</td>\n",
              "      <td>347173</td>\n",
              "    </tr>\n",
              "    <tr>\n",
              "      <th>25</th>\n",
              "      <td>M26</td>\n",
              "      <td>7.6</td>\n",
              "      <td>340153</td>\n",
              "    </tr>\n",
              "    <tr>\n",
              "      <th>26</th>\n",
              "      <td>M27</td>\n",
              "      <td>8.3</td>\n",
              "      <td>9670</td>\n",
              "    </tr>\n",
              "    <tr>\n",
              "      <th>27</th>\n",
              "      <td>M28</td>\n",
              "      <td>5.3</td>\n",
              "      <td>18962</td>\n",
              "    </tr>\n",
              "    <tr>\n",
              "      <th>28</th>\n",
              "      <td>M29</td>\n",
              "      <td>6.7</td>\n",
              "      <td>577738</td>\n",
              "    </tr>\n",
              "  </tbody>\n",
              "</table>\n",
              "</div>"
            ],
            "text/plain": [
              "   mov_id  mov_rating number_of_rating\n",
              "0     M01         7.9           633921\n",
              "1     M02         7.9           950717\n",
              "2     M03         7.7           210485\n",
              "3     M04         6.9           386223\n",
              "4     M05         7.3           601032\n",
              "5     M06         7.1           277742\n",
              "6     M07         9.2            16411\n",
              "7     M08         7.4           583071\n",
              "8     M09         7.6           586914\n",
              "9     M10         7.7           474136\n",
              "10    M11         8.2            11471\n",
              "11    M12         7.8            10573\n",
              "12    M13         6.5          ‎312673\n",
              "13    M14         8.7          ‎229762\n",
              "14    M15         7.4           546652\n",
              "15    M16         8.1          ‎127536\n",
              "16    M17         7.6           667414\n",
              "17    M18         7.9          ‎602382\n",
              "18    M19         8.3           750706\n",
              "19    M20         8.3           750706\n",
              "20    M21         6.3           116221\n",
              "21    M22         6.5           ‎73700\n",
              "22    M23         8.6          1538047\n",
              "23    M24         7.5           446591\n",
              "24    M25         7.7           347173\n",
              "25    M26         7.6           340153\n",
              "26    M27         8.3             9670\n",
              "27    M28         5.3            18962\n",
              "28    M29         6.7           577738"
            ]
          },
          "metadata": {
            "tags": []
          },
          "execution_count": 25
        }
      ]
    },
    {
      "cell_type": "code",
      "metadata": {
        "colab": {
          "base_uri": "https://localhost:8080/",
          "height": 408
        },
        "id": "p-TaBsBbsdIe",
        "outputId": "3fb23599-48ee-46ce-c648-fae1440aaa4e"
      },
      "source": [
        "qY = ''' SELECT * FROM ACTOR '''\n",
        "\n",
        "execute = pd.read_sql_query(qY, conn)\n",
        "execute"
      ],
      "execution_count": null,
      "outputs": [
        {
          "output_type": "execute_result",
          "data": {
            "text/html": [
              "<div>\n",
              "<style scoped>\n",
              "    .dataframe tbody tr th:only-of-type {\n",
              "        vertical-align: middle;\n",
              "    }\n",
              "\n",
              "    .dataframe tbody tr th {\n",
              "        vertical-align: top;\n",
              "    }\n",
              "\n",
              "    .dataframe thead th {\n",
              "        text-align: right;\n",
              "    }\n",
              "</style>\n",
              "<table border=\"1\" class=\"dataframe\">\n",
              "  <thead>\n",
              "    <tr style=\"text-align: right;\">\n",
              "      <th></th>\n",
              "      <th>act_id</th>\n",
              "      <th>act_name</th>\n",
              "      <th>act_gender</th>\n",
              "      <th>act_age</th>\n",
              "      <th>act_award</th>\n",
              "    </tr>\n",
              "  </thead>\n",
              "  <tbody>\n",
              "    <tr>\n",
              "      <th>0</th>\n",
              "      <td>111</td>\n",
              "      <td>Daniel Craig</td>\n",
              "      <td>Male</td>\n",
              "      <td>53</td>\n",
              "      <td>BAFTA best actor in leading role</td>\n",
              "    </tr>\n",
              "    <tr>\n",
              "      <th>1</th>\n",
              "      <td>112</td>\n",
              "      <td>Robert Downey Jr.</td>\n",
              "      <td>Male</td>\n",
              "      <td>55</td>\n",
              "      <td>Golden globe award for best actor</td>\n",
              "    </tr>\n",
              "    <tr>\n",
              "      <th>2</th>\n",
              "      <td>113</td>\n",
              "      <td>Scarlett Johannson</td>\n",
              "      <td>Female</td>\n",
              "      <td>36</td>\n",
              "      <td>MTV Movie Award for Best Fight</td>\n",
              "    </tr>\n",
              "    <tr>\n",
              "      <th>3</th>\n",
              "      <td>114</td>\n",
              "      <td>Nicole Kidman</td>\n",
              "      <td>female</td>\n",
              "      <td>53</td>\n",
              "      <td>Academy Award for Best Actress in a Leading Role</td>\n",
              "    </tr>\n",
              "    <tr>\n",
              "      <th>4</th>\n",
              "      <td>115</td>\n",
              "      <td>Mark Ruffalo</td>\n",
              "      <td>Male</td>\n",
              "      <td>53</td>\n",
              "      <td>MTV Movie Award for Best Fight</td>\n",
              "    </tr>\n",
              "    <tr>\n",
              "      <th>5</th>\n",
              "      <td>116</td>\n",
              "      <td>Emma watson</td>\n",
              "      <td>Female</td>\n",
              "      <td>30</td>\n",
              "      <td>Teen choice award for best movie</td>\n",
              "    </tr>\n",
              "    <tr>\n",
              "      <th>6</th>\n",
              "      <td>117</td>\n",
              "      <td>Marlon Brando</td>\n",
              "      <td>Male</td>\n",
              "      <td>80</td>\n",
              "      <td>Acedemy award for besyt actor in leading role</td>\n",
              "    </tr>\n",
              "    <tr>\n",
              "      <th>7</th>\n",
              "      <td>118</td>\n",
              "      <td>Gal Gadot</td>\n",
              "      <td>Female</td>\n",
              "      <td>35</td>\n",
              "      <td>C Award</td>\n",
              "    </tr>\n",
              "    <tr>\n",
              "      <th>8</th>\n",
              "      <td>119</td>\n",
              "      <td>Mel Gibson</td>\n",
              "      <td>Male</td>\n",
              "      <td>35</td>\n",
              "      <td>Critice Seeher Award</td>\n",
              "    </tr>\n",
              "    <tr>\n",
              "      <th>9</th>\n",
              "      <td>120</td>\n",
              "      <td>Bradley Cooper</td>\n",
              "      <td>Make</td>\n",
              "      <td>35</td>\n",
              "      <td>Critics Cheher Award</td>\n",
              "    </tr>\n",
              "    <tr>\n",
              "      <th>10</th>\n",
              "      <td>121</td>\n",
              "      <td>Ben Affleck</td>\n",
              "      <td>Male</td>\n",
              "      <td>35</td>\n",
              "      <td>Critics Choice Sr Award</td>\n",
              "    </tr>\n",
              "    <tr>\n",
              "      <th>11</th>\n",
              "      <td>122</td>\n",
              "      <td>Angelina Jolie</td>\n",
              "      <td>Female</td>\n",
              "      <td>35</td>\n",
              "      <td>Choice Seeher Award</td>\n",
              "    </tr>\n",
              "  </tbody>\n",
              "</table>\n",
              "</div>"
            ],
            "text/plain": [
              "    act_id  ...                                         act_award\n",
              "0      111  ...                  BAFTA best actor in leading role\n",
              "1      112  ...                 Golden globe award for best actor\n",
              "2      113  ...                    MTV Movie Award for Best Fight\n",
              "3      114  ...  Academy Award for Best Actress in a Leading Role\n",
              "4      115  ...                    MTV Movie Award for Best Fight\n",
              "5      116  ...                  Teen choice award for best movie\n",
              "6      117  ...     Acedemy award for besyt actor in leading role\n",
              "7      118  ...                                           C Award\n",
              "8      119  ...                              Critice Seeher Award\n",
              "9      120  ...                              Critics Cheher Award\n",
              "10     121  ...                           Critics Choice Sr Award\n",
              "11     122  ...                               Choice Seeher Award\n",
              "\n",
              "[12 rows x 5 columns]"
            ]
          },
          "metadata": {
            "tags": []
          },
          "execution_count": 26
        }
      ]
    },
    {
      "cell_type": "code",
      "metadata": {
        "colab": {
          "base_uri": "https://localhost:8080/",
          "height": 678
        },
        "id": "cbmkKU9FsWrn",
        "outputId": "5e800bf9-5615-44ec-ea78-f69dc26a2214"
      },
      "source": [
        "qA = '''SELECT * FROM ACTS_IN'''\n",
        "\n",
        "execute = pd.read_sql_query(qA, conn)\n",
        "execute"
      ],
      "execution_count": null,
      "outputs": [
        {
          "output_type": "execute_result",
          "data": {
            "text/html": [
              "<div>\n",
              "<style scoped>\n",
              "    .dataframe tbody tr th:only-of-type {\n",
              "        vertical-align: middle;\n",
              "    }\n",
              "\n",
              "    .dataframe tbody tr th {\n",
              "        vertical-align: top;\n",
              "    }\n",
              "\n",
              "    .dataframe thead th {\n",
              "        text-align: right;\n",
              "    }\n",
              "</style>\n",
              "<table border=\"1\" class=\"dataframe\">\n",
              "  <thead>\n",
              "    <tr style=\"text-align: right;\">\n",
              "      <th></th>\n",
              "      <th>act_id</th>\n",
              "      <th>mov_id</th>\n",
              "    </tr>\n",
              "  </thead>\n",
              "  <tbody>\n",
              "    <tr>\n",
              "      <th>0</th>\n",
              "      <td>111</td>\n",
              "      <td>M01</td>\n",
              "    </tr>\n",
              "    <tr>\n",
              "      <th>1</th>\n",
              "      <td>111</td>\n",
              "      <td>M20</td>\n",
              "    </tr>\n",
              "    <tr>\n",
              "      <th>2</th>\n",
              "      <td>112</td>\n",
              "      <td>M02</td>\n",
              "    </tr>\n",
              "    <tr>\n",
              "      <th>3</th>\n",
              "      <td>112</td>\n",
              "      <td>M09</td>\n",
              "    </tr>\n",
              "    <tr>\n",
              "      <th>4</th>\n",
              "      <td>112</td>\n",
              "      <td>M16</td>\n",
              "    </tr>\n",
              "    <tr>\n",
              "      <th>5</th>\n",
              "      <td>112</td>\n",
              "      <td>M10</td>\n",
              "    </tr>\n",
              "    <tr>\n",
              "      <th>6</th>\n",
              "      <td>113</td>\n",
              "      <td>M16</td>\n",
              "    </tr>\n",
              "    <tr>\n",
              "      <th>7</th>\n",
              "      <td>113</td>\n",
              "      <td>M03</td>\n",
              "    </tr>\n",
              "    <tr>\n",
              "      <th>8</th>\n",
              "      <td>114</td>\n",
              "      <td>M04</td>\n",
              "    </tr>\n",
              "    <tr>\n",
              "      <th>9</th>\n",
              "      <td>115</td>\n",
              "      <td>M05</td>\n",
              "    </tr>\n",
              "    <tr>\n",
              "      <th>10</th>\n",
              "      <td>115</td>\n",
              "      <td>M10</td>\n",
              "    </tr>\n",
              "    <tr>\n",
              "      <th>11</th>\n",
              "      <td>115</td>\n",
              "      <td>M13</td>\n",
              "    </tr>\n",
              "    <tr>\n",
              "      <th>12</th>\n",
              "      <td>115</td>\n",
              "      <td>M16</td>\n",
              "    </tr>\n",
              "    <tr>\n",
              "      <th>13</th>\n",
              "      <td>116</td>\n",
              "      <td>M06</td>\n",
              "    </tr>\n",
              "    <tr>\n",
              "      <th>14</th>\n",
              "      <td>116</td>\n",
              "      <td>M17</td>\n",
              "    </tr>\n",
              "    <tr>\n",
              "      <th>15</th>\n",
              "      <td>117</td>\n",
              "      <td>M07</td>\n",
              "    </tr>\n",
              "    <tr>\n",
              "      <th>16</th>\n",
              "      <td>118</td>\n",
              "      <td>M08</td>\n",
              "    </tr>\n",
              "    <tr>\n",
              "      <th>17</th>\n",
              "      <td>119</td>\n",
              "      <td>M27</td>\n",
              "    </tr>\n",
              "    <tr>\n",
              "      <th>18</th>\n",
              "      <td>120</td>\n",
              "      <td>M26</td>\n",
              "    </tr>\n",
              "    <tr>\n",
              "      <th>19</th>\n",
              "      <td>121</td>\n",
              "      <td>M29</td>\n",
              "    </tr>\n",
              "    <tr>\n",
              "      <th>20</th>\n",
              "      <td>122</td>\n",
              "      <td>M28</td>\n",
              "    </tr>\n",
              "  </tbody>\n",
              "</table>\n",
              "</div>"
            ],
            "text/plain": [
              "    act_id mov_id\n",
              "0      111    M01\n",
              "1      111    M20\n",
              "2      112    M02\n",
              "3      112    M09\n",
              "4      112    M16\n",
              "5      112    M10\n",
              "6      113    M16\n",
              "7      113    M03\n",
              "8      114    M04\n",
              "9      115    M05\n",
              "10     115    M10\n",
              "11     115    M13\n",
              "12     115    M16\n",
              "13     116    M06\n",
              "14     116    M17\n",
              "15     117    M07\n",
              "16     118    M08\n",
              "17     119    M27\n",
              "18     120    M26\n",
              "19     121    M29\n",
              "20     122    M28"
            ]
          },
          "metadata": {
            "tags": []
          },
          "execution_count": 27
        }
      ]
    },
    {
      "cell_type": "code",
      "metadata": {
        "colab": {
          "base_uri": "https://localhost:8080/",
          "height": 918
        },
        "id": "gS2JNqnG5G8t",
        "outputId": "40c16b23-a0f0-40dc-bd1a-76bf8cc1f1d2"
      },
      "source": [
        "qB = '''SELECT * FROM DIRECTED_BY'''\n",
        "\n",
        "execute = pd.read_sql_query(qB, conn)\n",
        "execute"
      ],
      "execution_count": null,
      "outputs": [
        {
          "output_type": "execute_result",
          "data": {
            "text/html": [
              "<div>\n",
              "<style scoped>\n",
              "    .dataframe tbody tr th:only-of-type {\n",
              "        vertical-align: middle;\n",
              "    }\n",
              "\n",
              "    .dataframe tbody tr th {\n",
              "        vertical-align: top;\n",
              "    }\n",
              "\n",
              "    .dataframe thead th {\n",
              "        text-align: right;\n",
              "    }\n",
              "</style>\n",
              "<table border=\"1\" class=\"dataframe\">\n",
              "  <thead>\n",
              "    <tr style=\"text-align: right;\">\n",
              "      <th></th>\n",
              "      <th>dir_id</th>\n",
              "      <th>mov_id</th>\n",
              "    </tr>\n",
              "  </thead>\n",
              "  <tbody>\n",
              "    <tr>\n",
              "      <th>0</th>\n",
              "      <td>D02</td>\n",
              "      <td>M01</td>\n",
              "    </tr>\n",
              "    <tr>\n",
              "      <th>1</th>\n",
              "      <td>D03</td>\n",
              "      <td>M02</td>\n",
              "    </tr>\n",
              "    <tr>\n",
              "      <th>2</th>\n",
              "      <td>D04</td>\n",
              "      <td>M03</td>\n",
              "    </tr>\n",
              "    <tr>\n",
              "      <th>3</th>\n",
              "      <td>D05</td>\n",
              "      <td>M04</td>\n",
              "    </tr>\n",
              "    <tr>\n",
              "      <th>4</th>\n",
              "      <td>D06</td>\n",
              "      <td>M05</td>\n",
              "    </tr>\n",
              "    <tr>\n",
              "      <th>5</th>\n",
              "      <td>D07</td>\n",
              "      <td>M06</td>\n",
              "    </tr>\n",
              "    <tr>\n",
              "      <th>6</th>\n",
              "      <td>D08</td>\n",
              "      <td>M07</td>\n",
              "    </tr>\n",
              "    <tr>\n",
              "      <th>7</th>\n",
              "      <td>D09</td>\n",
              "      <td>M08</td>\n",
              "    </tr>\n",
              "    <tr>\n",
              "      <th>8</th>\n",
              "      <td>D10</td>\n",
              "      <td>M09</td>\n",
              "    </tr>\n",
              "    <tr>\n",
              "      <th>9</th>\n",
              "      <td>D11</td>\n",
              "      <td>M10</td>\n",
              "    </tr>\n",
              "    <tr>\n",
              "      <th>10</th>\n",
              "      <td>D12</td>\n",
              "      <td>M11</td>\n",
              "    </tr>\n",
              "    <tr>\n",
              "      <th>11</th>\n",
              "      <td>D13</td>\n",
              "      <td>M12</td>\n",
              "    </tr>\n",
              "    <tr>\n",
              "      <th>12</th>\n",
              "      <td>D14</td>\n",
              "      <td>M13</td>\n",
              "    </tr>\n",
              "    <tr>\n",
              "      <th>13</th>\n",
              "      <td>D14</td>\n",
              "      <td>M14</td>\n",
              "    </tr>\n",
              "    <tr>\n",
              "      <th>14</th>\n",
              "      <td>D16</td>\n",
              "      <td>M15</td>\n",
              "    </tr>\n",
              "    <tr>\n",
              "      <th>15</th>\n",
              "      <td>D17</td>\n",
              "      <td>M16</td>\n",
              "    </tr>\n",
              "    <tr>\n",
              "      <th>16</th>\n",
              "      <td>D18</td>\n",
              "      <td>M17</td>\n",
              "    </tr>\n",
              "    <tr>\n",
              "      <th>17</th>\n",
              "      <td>D04</td>\n",
              "      <td>M18</td>\n",
              "    </tr>\n",
              "    <tr>\n",
              "      <th>18</th>\n",
              "      <td>D19</td>\n",
              "      <td>M19</td>\n",
              "    </tr>\n",
              "    <tr>\n",
              "      <th>19</th>\n",
              "      <td>D20</td>\n",
              "      <td>M20</td>\n",
              "    </tr>\n",
              "    <tr>\n",
              "      <th>20</th>\n",
              "      <td>D21</td>\n",
              "      <td>M21</td>\n",
              "    </tr>\n",
              "    <tr>\n",
              "      <th>21</th>\n",
              "      <td>D22</td>\n",
              "      <td>M22</td>\n",
              "    </tr>\n",
              "    <tr>\n",
              "      <th>22</th>\n",
              "      <td>D24</td>\n",
              "      <td>M23</td>\n",
              "    </tr>\n",
              "    <tr>\n",
              "      <th>23</th>\n",
              "      <td>D05</td>\n",
              "      <td>M24</td>\n",
              "    </tr>\n",
              "    <tr>\n",
              "      <th>24</th>\n",
              "      <td>D23</td>\n",
              "      <td>M25</td>\n",
              "    </tr>\n",
              "    <tr>\n",
              "      <th>25</th>\n",
              "      <td>D26</td>\n",
              "      <td>M26</td>\n",
              "    </tr>\n",
              "    <tr>\n",
              "      <th>26</th>\n",
              "      <td>D25</td>\n",
              "      <td>M27</td>\n",
              "    </tr>\n",
              "    <tr>\n",
              "      <th>27</th>\n",
              "      <td>D28</td>\n",
              "      <td>M28</td>\n",
              "    </tr>\n",
              "    <tr>\n",
              "      <th>28</th>\n",
              "      <td>D27</td>\n",
              "      <td>M29</td>\n",
              "    </tr>\n",
              "  </tbody>\n",
              "</table>\n",
              "</div>"
            ],
            "text/plain": [
              "   dir_id mov_id\n",
              "0     D02    M01\n",
              "1     D03    M02\n",
              "2     D04    M03\n",
              "3     D05    M04\n",
              "4     D06    M05\n",
              "5     D07    M06\n",
              "6     D08    M07\n",
              "7     D09    M08\n",
              "8     D10    M09\n",
              "9     D11    M10\n",
              "10    D12    M11\n",
              "11    D13    M12\n",
              "12    D14    M13\n",
              "13    D14    M14\n",
              "14    D16    M15\n",
              "15    D17    M16\n",
              "16    D18    M17\n",
              "17    D04    M18\n",
              "18    D19    M19\n",
              "19    D20    M20\n",
              "20    D21    M21\n",
              "21    D22    M22\n",
              "22    D24    M23\n",
              "23    D05    M24\n",
              "24    D23    M25\n",
              "25    D26    M26\n",
              "26    D25    M27\n",
              "27    D28    M28\n",
              "28    D27    M29"
            ]
          },
          "metadata": {
            "tags": []
          },
          "execution_count": 28
        }
      ]
    },
    {
      "cell_type": "markdown",
      "metadata": {
        "id": "xZRzpEmyCLfa"
      },
      "source": [
        "insert = '''\n",
        "INSERT INTO RATING(mov_id,mov_rating,number_of_rating)\n",
        "VALUES ('M01', '7.9', '633921'),\n",
        "      ('M02', '7.9', '950717'),\n",
        "      ('M03', '7.7', '210485'),\n",
        "      ('M04', '6.9', '386223'),\n",
        "      ('M05', '7.3', '601032'),\n",
        "      ('M06', '7.1', '277742'),\n",
        "      ('M07', '9.2', '1641195'),\n",
        "      ('M08', '7.4', ‎'583071'),\n",
        "      ('M09', '7.6', '586914'),\n",
        "      ('M10', '7.7', '474136'),\n",
        "      ('M11', '8.2', '1147133'),\n",
        "      ('M12', '7.8', '1057333'),\n",
        "      ('M13', '6.5', '‎252673'),\n",
        "      ('M14', '8.7', '‎1695762'),\n",
        "      ('M15', '7.4', ‎'546652'),\n",
        "      ('M16', '8.0', '‎1272836'),\n",
        "      ('M17', '7.6', '667414'),\n",
        "      ('M18', '7.9', '‎602382'),\n",
        "      ('M19', '8.3', ‎'750706'),\n",
        "      ('M20', '8.3', ‎'750706'),\n",
        "      ('M21', '6.3', ‎'116221'),\n",
        "      ('M22', '6.5', '‎738081'),\n",
        "      ('M23', '8.6', ‎'1538047'),\n",
        "      ('M24', '7.5', ‎'446591'),\n",
        "      ('M25', '7.7', ‎'347173'),\n",
        "     ('M26', '7.6', ‎'340153'),\n",
        "      ('M27', '8.3', ‎'9670'),\n",
        "     ('M28', '5.3', ‎'18962'),\n",
        "     ('M29', '6.7', ‎'577738')\n",
        "     \n",
        "     '''\n",
        "\n",
        "cursor.execute(insert)\n",
        "\n"
      ]
    },
    {
      "cell_type": "markdown",
      "metadata": {
        "id": "A5T3FUpPLVGz"
      },
      "source": [
        "QUERIES"
      ]
    },
    {
      "cell_type": "code",
      "metadata": {
        "colab": {
          "base_uri": "https://localhost:8080/",
          "height": 168
        },
        "id": "58mscvPzJgAo",
        "outputId": "ebf83ace-10ca-48ac-c1c9-c974b078c186"
      },
      "source": [
        "#Q1 : Display the list of movies in which actor is RDJ\n",
        "q1 = ''' \n",
        "select A.act_name, M.mov_name\n",
        "from actor as A, movie as M , acts_in as S\n",
        "where S.act_id = A.act_id\n",
        "and M.mov_id = S.mov_id\n",
        "and A.act_name = 'Robert Downey Jr.'\n",
        "\n",
        "'''\n",
        "\n",
        "execute = pd.read_sql_query(q1, conn)\n",
        "execute"
      ],
      "execution_count": null,
      "outputs": [
        {
          "output_type": "execute_result",
          "data": {
            "text/html": [
              "<div>\n",
              "<style scoped>\n",
              "    .dataframe tbody tr th:only-of-type {\n",
              "        vertical-align: middle;\n",
              "    }\n",
              "\n",
              "    .dataframe tbody tr th {\n",
              "        vertical-align: top;\n",
              "    }\n",
              "\n",
              "    .dataframe thead th {\n",
              "        text-align: right;\n",
              "    }\n",
              "</style>\n",
              "<table border=\"1\" class=\"dataframe\">\n",
              "  <thead>\n",
              "    <tr style=\"text-align: right;\">\n",
              "      <th></th>\n",
              "      <th>act_name</th>\n",
              "      <th>mov_name</th>\n",
              "    </tr>\n",
              "  </thead>\n",
              "  <tbody>\n",
              "    <tr>\n",
              "      <th>0</th>\n",
              "      <td>Robert Downey Jr.</td>\n",
              "      <td>Iron Man</td>\n",
              "    </tr>\n",
              "    <tr>\n",
              "      <th>1</th>\n",
              "      <td>Robert Downey Jr.</td>\n",
              "      <td>Sherlock Holmes</td>\n",
              "    </tr>\n",
              "    <tr>\n",
              "      <th>2</th>\n",
              "      <td>Robert Downey Jr.</td>\n",
              "      <td>Avengers</td>\n",
              "    </tr>\n",
              "    <tr>\n",
              "      <th>3</th>\n",
              "      <td>Robert Downey Jr.</td>\n",
              "      <td>Zodiac</td>\n",
              "    </tr>\n",
              "  </tbody>\n",
              "</table>\n",
              "</div>"
            ],
            "text/plain": [
              "            act_name         mov_name\n",
              "0  Robert Downey Jr.         Iron Man\n",
              "1  Robert Downey Jr.  Sherlock Holmes\n",
              "2  Robert Downey Jr.         Avengers\n",
              "3  Robert Downey Jr.           Zodiac"
            ]
          },
          "metadata": {
            "tags": []
          },
          "execution_count": 29
        }
      ]
    },
    {
      "cell_type": "code",
      "metadata": {
        "id": "hkM-q2V-KJHn",
        "colab": {
          "base_uri": "https://localhost:8080/",
          "height": 522
        },
        "outputId": "c0e0ce93-069c-45e3-fc2a-a88497ea4c44"
      },
      "source": [
        "# Display all the movies having rating greater than avg rating\n",
        "\n",
        "q2 = '''\n",
        "select mov_id, mov_name ,avg(rating)\n",
        "from movie\n",
        "where rating > avg(rating)\n",
        "'''\n",
        "execute = pd.read_sql_query(q2, conn)\n",
        "execute"
      ],
      "execution_count": null,
      "outputs": [
        {
          "output_type": "error",
          "ename": "DatabaseError",
          "evalue": "ignored",
          "traceback": [
            "\u001b[0;31m---------------------------------------------------------------------------\u001b[0m",
            "\u001b[0;31mOperationalError\u001b[0m                          Traceback (most recent call last)",
            "\u001b[0;32m/usr/local/lib/python3.7/dist-packages/pandas/io/sql.py\u001b[0m in \u001b[0;36mexecute\u001b[0;34m(self, *args, **kwargs)\u001b[0m\n\u001b[1;32m   1680\u001b[0m         \u001b[0;32mtry\u001b[0m\u001b[0;34m:\u001b[0m\u001b[0;34m\u001b[0m\u001b[0;34m\u001b[0m\u001b[0m\n\u001b[0;32m-> 1681\u001b[0;31m             \u001b[0mcur\u001b[0m\u001b[0;34m.\u001b[0m\u001b[0mexecute\u001b[0m\u001b[0;34m(\u001b[0m\u001b[0;34m*\u001b[0m\u001b[0margs\u001b[0m\u001b[0;34m,\u001b[0m \u001b[0;34m**\u001b[0m\u001b[0mkwargs\u001b[0m\u001b[0;34m)\u001b[0m\u001b[0;34m\u001b[0m\u001b[0;34m\u001b[0m\u001b[0m\n\u001b[0m\u001b[1;32m   1682\u001b[0m             \u001b[0;32mreturn\u001b[0m \u001b[0mcur\u001b[0m\u001b[0;34m\u001b[0m\u001b[0;34m\u001b[0m\u001b[0m\n",
            "\u001b[0;31mOperationalError\u001b[0m: no such column: rating",
            "\nThe above exception was the direct cause of the following exception:\n",
            "\u001b[0;31mDatabaseError\u001b[0m                             Traceback (most recent call last)",
            "\u001b[0;32m<ipython-input-31-953a1a7e3c44>\u001b[0m in \u001b[0;36m<module>\u001b[0;34m()\u001b[0m\n\u001b[1;32m      6\u001b[0m \u001b[0mwhere\u001b[0m \u001b[0mrating\u001b[0m \u001b[0;34m>\u001b[0m \u001b[0mavg\u001b[0m\u001b[0;34m(\u001b[0m\u001b[0mrating\u001b[0m\u001b[0;34m)\u001b[0m\u001b[0;34m\u001b[0m\u001b[0;34m\u001b[0m\u001b[0m\n\u001b[1;32m      7\u001b[0m '''\n\u001b[0;32m----> 8\u001b[0;31m \u001b[0mexecute\u001b[0m \u001b[0;34m=\u001b[0m \u001b[0mpd\u001b[0m\u001b[0;34m.\u001b[0m\u001b[0mread_sql_query\u001b[0m\u001b[0;34m(\u001b[0m\u001b[0mq2\u001b[0m\u001b[0;34m,\u001b[0m \u001b[0mconn\u001b[0m\u001b[0;34m)\u001b[0m\u001b[0;34m\u001b[0m\u001b[0;34m\u001b[0m\u001b[0m\n\u001b[0m\u001b[1;32m      9\u001b[0m \u001b[0mexecute\u001b[0m\u001b[0;34m\u001b[0m\u001b[0;34m\u001b[0m\u001b[0m\n",
            "\u001b[0;32m/usr/local/lib/python3.7/dist-packages/pandas/io/sql.py\u001b[0m in \u001b[0;36mread_sql_query\u001b[0;34m(sql, con, index_col, coerce_float, params, parse_dates, chunksize)\u001b[0m\n\u001b[1;32m    381\u001b[0m         \u001b[0mcoerce_float\u001b[0m\u001b[0;34m=\u001b[0m\u001b[0mcoerce_float\u001b[0m\u001b[0;34m,\u001b[0m\u001b[0;34m\u001b[0m\u001b[0;34m\u001b[0m\u001b[0m\n\u001b[1;32m    382\u001b[0m         \u001b[0mparse_dates\u001b[0m\u001b[0;34m=\u001b[0m\u001b[0mparse_dates\u001b[0m\u001b[0;34m,\u001b[0m\u001b[0;34m\u001b[0m\u001b[0;34m\u001b[0m\u001b[0m\n\u001b[0;32m--> 383\u001b[0;31m         \u001b[0mchunksize\u001b[0m\u001b[0;34m=\u001b[0m\u001b[0mchunksize\u001b[0m\u001b[0;34m,\u001b[0m\u001b[0;34m\u001b[0m\u001b[0;34m\u001b[0m\u001b[0m\n\u001b[0m\u001b[1;32m    384\u001b[0m     )\n\u001b[1;32m    385\u001b[0m \u001b[0;34m\u001b[0m\u001b[0m\n",
            "\u001b[0;32m/usr/local/lib/python3.7/dist-packages/pandas/io/sql.py\u001b[0m in \u001b[0;36mread_query\u001b[0;34m(self, sql, index_col, coerce_float, params, parse_dates, chunksize)\u001b[0m\n\u001b[1;32m   1725\u001b[0m \u001b[0;34m\u001b[0m\u001b[0m\n\u001b[1;32m   1726\u001b[0m         \u001b[0margs\u001b[0m \u001b[0;34m=\u001b[0m \u001b[0m_convert_params\u001b[0m\u001b[0;34m(\u001b[0m\u001b[0msql\u001b[0m\u001b[0;34m,\u001b[0m \u001b[0mparams\u001b[0m\u001b[0;34m)\u001b[0m\u001b[0;34m\u001b[0m\u001b[0;34m\u001b[0m\u001b[0m\n\u001b[0;32m-> 1727\u001b[0;31m         \u001b[0mcursor\u001b[0m \u001b[0;34m=\u001b[0m \u001b[0mself\u001b[0m\u001b[0;34m.\u001b[0m\u001b[0mexecute\u001b[0m\u001b[0;34m(\u001b[0m\u001b[0;34m*\u001b[0m\u001b[0margs\u001b[0m\u001b[0;34m)\u001b[0m\u001b[0;34m\u001b[0m\u001b[0;34m\u001b[0m\u001b[0m\n\u001b[0m\u001b[1;32m   1728\u001b[0m         \u001b[0mcolumns\u001b[0m \u001b[0;34m=\u001b[0m \u001b[0;34m[\u001b[0m\u001b[0mcol_desc\u001b[0m\u001b[0;34m[\u001b[0m\u001b[0;36m0\u001b[0m\u001b[0;34m]\u001b[0m \u001b[0;32mfor\u001b[0m \u001b[0mcol_desc\u001b[0m \u001b[0;32min\u001b[0m \u001b[0mcursor\u001b[0m\u001b[0;34m.\u001b[0m\u001b[0mdescription\u001b[0m\u001b[0;34m]\u001b[0m\u001b[0;34m\u001b[0m\u001b[0;34m\u001b[0m\u001b[0m\n\u001b[1;32m   1729\u001b[0m \u001b[0;34m\u001b[0m\u001b[0m\n",
            "\u001b[0;32m/usr/local/lib/python3.7/dist-packages/pandas/io/sql.py\u001b[0m in \u001b[0;36mexecute\u001b[0;34m(self, *args, **kwargs)\u001b[0m\n\u001b[1;32m   1691\u001b[0m \u001b[0;34m\u001b[0m\u001b[0m\n\u001b[1;32m   1692\u001b[0m             \u001b[0mex\u001b[0m \u001b[0;34m=\u001b[0m \u001b[0mDatabaseError\u001b[0m\u001b[0;34m(\u001b[0m\u001b[0;34mf\"Execution failed on sql '{args[0]}': {exc}\"\u001b[0m\u001b[0;34m)\u001b[0m\u001b[0;34m\u001b[0m\u001b[0;34m\u001b[0m\u001b[0m\n\u001b[0;32m-> 1693\u001b[0;31m             \u001b[0;32mraise\u001b[0m \u001b[0mex\u001b[0m \u001b[0;32mfrom\u001b[0m \u001b[0mexc\u001b[0m\u001b[0;34m\u001b[0m\u001b[0;34m\u001b[0m\u001b[0m\n\u001b[0m\u001b[1;32m   1694\u001b[0m \u001b[0;34m\u001b[0m\u001b[0m\n\u001b[1;32m   1695\u001b[0m     \u001b[0;34m@\u001b[0m\u001b[0mstaticmethod\u001b[0m\u001b[0;34m\u001b[0m\u001b[0;34m\u001b[0m\u001b[0m\n",
            "\u001b[0;31mDatabaseError\u001b[0m: Execution failed on sql '\nselect mov_id, mov_name ,avg(rating)\nfrom movie\nwhere rating > avg(rating)\n': no such column: rating"
          ]
        }
      ]
    }
  ]
}